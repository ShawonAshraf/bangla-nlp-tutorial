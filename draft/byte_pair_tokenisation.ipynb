{
 "cells": [
  {
   "cell_type": "markdown",
   "metadata": {},
   "source": [
    "### A simple corpus\n",
    "[From stanford NLP tutorial](https://youtu.be/tOMjTCO0htA?si=AyaI1zthwS1dFQgS)\n",
    "\n"
   ]
  },
  {
   "cell_type": "code",
   "execution_count": 1,
   "metadata": {},
   "outputs": [],
   "source": [
    "corpus = \"low low low low low lowest lowest newer newer newer newer newer newer wider wider wider new new\""
   ]
  },
  {
   "cell_type": "markdown",
   "metadata": {},
   "source": [
    "### Learner module"
   ]
  },
  {
   "cell_type": "code",
   "execution_count": 2,
   "metadata": {},
   "outputs": [],
   "source": [
    "special_token = \"#\"\n",
    "# _ can also be used instead of #\n",
    "\n",
    "\n",
    "# get space seaprated tokens\n",
    "# all words in text were whitespace separated\n",
    "tokens = corpus.split(\" \")"
   ]
  },
  {
   "cell_type": "code",
   "execution_count": 3,
   "metadata": {},
   "outputs": [
    {
     "name": "stdout",
     "output_type": "stream",
     "text": [
      "Counter({'newer': 6, 'low': 5, 'wider': 3, 'lowest': 2, 'new': 2})\n"
     ]
    }
   ],
   "source": [
    "from collections import Counter\n",
    "\n",
    "# count token types\n",
    "token_counts = Counter(tokens)\n",
    "print(token_counts)"
   ]
  },
  {
   "cell_type": "code",
   "execution_count": 4,
   "metadata": {},
   "outputs": [
    {
     "name": "stdout",
     "output_type": "stream",
     "text": [
      "{'l o w #': 5, 'l o w e s t #': 2, 'n e w e r #': 6, 'w i d e r #': 3, 'n e w #': 2}\n"
     ]
    }
   ],
   "source": [
    "# the buffer serves as an intermediate variable\n",
    "# where we can do the searching and merging\n",
    "# ultimately we can about the vocab and not the buffer, so ...........\n",
    "def create_buffer(token_counts):\n",
    "    buffer = {}\n",
    "\n",
    "    for token_type, freq in token_counts.items():\n",
    "        # add a space between all the chars in the token\n",
    "        # also add the special token in the end\n",
    "        buffer_entry = \" \".join(list(token_type)) + \\\n",
    "            f\" {special_token}\"  # mind the space!\n",
    "        buffer[buffer_entry] = freq\n",
    "\n",
    "    return buffer\n",
    "\n",
    "buffer = create_buffer(token_counts)\n",
    "print(buffer)    "
   ]
  },
  {
   "cell_type": "code",
   "execution_count": 5,
   "metadata": {},
   "outputs": [
    {
     "data": {
      "text/plain": [
       "{('l', 'o'): 7,\n",
       " ('o', 'w'): 7,\n",
       " ('w', '#'): 7,\n",
       " ('w', 'e'): 8,\n",
       " ('e', 's'): 2,\n",
       " ('s', 't'): 2,\n",
       " ('t', '#'): 2,\n",
       " ('n', 'e'): 8,\n",
       " ('e', 'w'): 8,\n",
       " ('e', 'r'): 9,\n",
       " ('r', '#'): 9,\n",
       " ('w', 'i'): 3,\n",
       " ('i', 'd'): 3,\n",
       " ('d', 'e'): 3}"
      ]
     },
     "execution_count": 5,
     "metadata": {},
     "output_type": "execute_result"
    }
   ],
   "source": [
    "# 3 steps\n",
    "# get pair frequencies\n",
    "# find the best adjacent token pair, or symbol pair (by literature)\n",
    "# merge them\n",
    "\n",
    "def get_pair_frequencies(buffer):\n",
    "    pair_counts = dict()\n",
    "    \n",
    "    for entry, frequency in buffer.items():\n",
    "        chars = entry.split()\n",
    "        for idx, c in enumerate(chars):\n",
    "            if c == special_token or idx + 1 == len(chars):\n",
    "                continue\n",
    "            \n",
    "            pair = (c, chars[idx + 1])\n",
    "            \n",
    "            # pairs are parts of tokens\n",
    "            # if a token appears x times, so does the pair in it\n",
    "            if pair in pair_counts.keys():\n",
    "                pair_counts[pair] += frequency\n",
    "            else:\n",
    "                pair_counts[pair] = frequency \n",
    "    \n",
    "    return pair_counts\n",
    "    \n",
    "\n",
    "get_pair_frequencies(buffer)"
   ]
  },
  {
   "cell_type": "code",
   "execution_count": 6,
   "metadata": {},
   "outputs": [
    {
     "data": {
      "text/plain": [
       "{'l o w #': 5,\n",
       " 'l o w e s t #': 2,\n",
       " 'n e w er #': 6,\n",
       " 'w i d er #': 3,\n",
       " 'n e w #': 2}"
      ]
     },
     "execution_count": 6,
     "metadata": {},
     "output_type": "execute_result"
    }
   ],
   "source": [
    "# new symbol is the pair with the best frequency\n",
    "# (merged as a string, with a space) e.g. \"l o\" from (\"l\", \"o\")\n",
    "def merge(new_symbol, buffer):\n",
    "    merged_buffer = dict()\n",
    "    for token_type in buffer:\n",
    "        merged_token = token_type.replace(new_symbol, new_symbol.replace(\" \", \"\"))\n",
    "        merged_buffer[merged_token] = buffer[token_type]\n",
    "        \n",
    "    return merged_buffer\n",
    "\n",
    "merge(\"e r\", buffer)\n",
    "    "
   ]
  },
  {
   "cell_type": "code",
   "execution_count": 7,
   "metadata": {},
   "outputs": [
    {
     "data": {
      "application/vnd.jupyter.widget-view+json": {
       "model_id": "3586d575cc474d3689c4af0e6a346cae",
       "version_major": 2,
       "version_minor": 0
      },
      "text/plain": [
       "  0%|          | 0/10 [00:00<?, ?it/s]"
      ]
     },
     "metadata": {},
     "output_type": "display_data"
    }
   ],
   "source": [
    "from tqdm.auto import trange\n",
    "\n",
    "N_MERGES = 10\n",
    "\n",
    "def fit(corpus, buffer, N_MERGES=N_MERGES):\n",
    "    vocabulary = set(list(corpus.replace(\" \", special_token)))\n",
    "    \n",
    "    for _ in trange(N_MERGES):\n",
    "        # find the best adjacent pair\n",
    "        pair_counts = get_pair_frequencies(buffer)\n",
    "        best_pair = max(pair_counts, key=pair_counts.get) #type: ignore\n",
    "        \n",
    "        # update vocabulary\n",
    "        new_vocab_entry = \"\".join(best_pair)\n",
    "        vocabulary.add(new_vocab_entry)\n",
    "        \n",
    "        # merge\n",
    "        new_symbol = \" \".join(best_pair)\n",
    "        buffer = merge(new_symbol, buffer)    \n",
    "        \n",
    "        \n",
    "    return vocabulary\n",
    "\n",
    "\n",
    "\n",
    "vocabulary = fit(corpus, buffer)"
   ]
  },
  {
   "cell_type": "code",
   "execution_count": 8,
   "metadata": {},
   "outputs": [
    {
     "data": {
      "text/plain": [
       "['#',\n",
       " 'd',\n",
       " 'e',\n",
       " 'er',\n",
       " 'er#',\n",
       " 'i',\n",
       " 'l',\n",
       " 'lo',\n",
       " 'low',\n",
       " 'low#',\n",
       " 'n',\n",
       " 'ne',\n",
       " 'new',\n",
       " 'newer#',\n",
       " 'o',\n",
       " 'r',\n",
       " 's',\n",
       " 't',\n",
       " 'w',\n",
       " 'wi',\n",
       " 'wid']"
      ]
     },
     "execution_count": 8,
     "metadata": {},
     "output_type": "execute_result"
    }
   ],
   "source": [
    "sorted(list(vocabulary))"
   ]
  },
  {
   "cell_type": "code",
   "execution_count": 9,
   "metadata": {},
   "outputs": [
    {
     "data": {
      "application/vnd.jupyter.widget-view+json": {
       "model_id": "dc6928d7ce94493daf46dc344094ddaa",
       "version_major": 2,
       "version_minor": 0
      },
      "text/plain": [
       "  0%|          | 0/10 [00:00<?, ?it/s]"
      ]
     },
     "metadata": {},
     "output_type": "display_data"
    }
   ],
   "source": [
    "# let's put all that into a class\n",
    "\n",
    "from typing import Dict, Set\n",
    "\n",
    "class Learner(object):\n",
    "    def __init__(self, corpus: str, special_token=\"#\") -> None:\n",
    "        self.corpus = corpus\n",
    "        self.special_token = special_token\n",
    "        \n",
    "        self.buffer = dict()\n",
    "        self.__create_buffer()\n",
    "        \n",
    "        self.vocabulary = set()\n",
    "        self.__init_vocab()\n",
    "        \n",
    "        # order is important later on for using the tokenizer\n",
    "        # to encode new text\n",
    "        self.merge_order = dict()\n",
    "        self.merge_order_tracker = 0\n",
    "        \n",
    "    def __create_buffer(self) -> None:\n",
    "        tokens = self.corpus.split(\" \")\n",
    "        token_counts = Counter(tokens)\n",
    "        \n",
    "        for token_type, freq in token_counts.items():\n",
    "            # add a space between all the chars in the token\n",
    "            # also add the special token in the end\n",
    "            buffer_entry = \" \".join(list(token_type)) + \\\n",
    "                f\" {special_token}\"  # mind the space!\n",
    "            self.buffer[buffer_entry] = freq\n",
    "    \n",
    "    def __init_vocab(self) -> None:\n",
    "        self.vocabulary = set(self.corpus.replace(\" \", \"\") + self.special_token)\n",
    "        \n",
    "    def __get_pair_frequencies(self) -> Dict:\n",
    "        pair_counts = dict()\n",
    "        \n",
    "        for entry, frequency in self.buffer.items():\n",
    "            chars = entry.split()\n",
    "            for idx, c in enumerate(chars):\n",
    "                if c == self.special_token or idx + 1 == len(chars):\n",
    "                    continue\n",
    "                \n",
    "                pair = (c, chars[idx + 1])\n",
    "                \n",
    "                # pairs are parts of tokens\n",
    "                # if a token appears x times, so does the pair in it\n",
    "                if pair in pair_counts.keys():\n",
    "                    pair_counts[pair] += frequency\n",
    "                else:\n",
    "                    pair_counts[pair] = frequency \n",
    "        \n",
    "        return pair_counts\n",
    "    \n",
    "    # new symbol is the pair with the best frequency\n",
    "    # (merged as a string, with a space) e.g. \"l o\" from (\"l\", \"o\")\n",
    "\n",
    "    def __merge(self, new_symbol) -> None:\n",
    "        merged_buffer = dict()\n",
    "        for token_type in buffer:\n",
    "            merged_token = token_type.replace(\n",
    "                new_symbol, new_symbol.replace(\" \", \"\"))\n",
    "            merged_buffer[merged_token] = self.buffer[token_type]\n",
    "                        \n",
    "\n",
    "        # update buffer\n",
    "        self.buffer = merged_buffer\n",
    "        \n",
    "        \n",
    "    # k number of merges\n",
    "    def fit(self, k: int) -> None:\n",
    "        \n",
    "        for _ in trange(k):\n",
    "            # find the best adjacent pair\n",
    "            pair_counts = self.__get_pair_frequencies()\n",
    "            best_pair = max(pair_counts, key=pair_counts.get) #type: ignore\n",
    "            \n",
    "            # update vocabulary\n",
    "            new_vocab_entry = \"\".join(best_pair)\n",
    "            self.vocabulary.add(new_vocab_entry)\n",
    "            \n",
    "            # merge\n",
    "            new_symbol = \" \".join(best_pair)\n",
    "            self.buffer = merge(new_symbol, self.buffer)\n",
    "            \n",
    "            # update merge order\n",
    "            assert best_pair not in self.merge_order.keys()\n",
    "            self.merge_order[best_pair] = self.merge_order_tracker\n",
    "            self.merge_order_tracker += 1\n",
    "            \n",
    "    \n",
    "learner = Learner(corpus)\n",
    "learner.fit(10)\n",
    "    "
   ]
  },
  {
   "cell_type": "code",
   "execution_count": 10,
   "metadata": {},
   "outputs": [
    {
     "data": {
      "text/plain": [
       "{'#',\n",
       " 'd',\n",
       " 'e',\n",
       " 'er',\n",
       " 'er#',\n",
       " 'i',\n",
       " 'l',\n",
       " 'lo',\n",
       " 'low',\n",
       " 'low#',\n",
       " 'n',\n",
       " 'ne',\n",
       " 'new',\n",
       " 'newer#',\n",
       " 'o',\n",
       " 'r',\n",
       " 's',\n",
       " 't',\n",
       " 'w',\n",
       " 'wi',\n",
       " 'wid'}"
      ]
     },
     "execution_count": 10,
     "metadata": {},
     "output_type": "execute_result"
    }
   ],
   "source": [
    "learner.vocabulary"
   ]
  },
  {
   "cell_type": "code",
   "execution_count": 11,
   "metadata": {},
   "outputs": [
    {
     "data": {
      "text/plain": [
       "{('e', 'r'): 0,\n",
       " ('er', '#'): 1,\n",
       " ('n', 'e'): 2,\n",
       " ('ne', 'w'): 3,\n",
       " ('l', 'o'): 4,\n",
       " ('lo', 'w'): 5,\n",
       " ('new', 'er#'): 6,\n",
       " ('low', '#'): 7,\n",
       " ('w', 'i'): 8,\n",
       " ('wi', 'd'): 9}"
      ]
     },
     "execution_count": 11,
     "metadata": {},
     "output_type": "execute_result"
    }
   ],
   "source": [
    "learner.merge_order"
   ]
  },
  {
   "cell_type": "markdown",
   "metadata": {},
   "source": [
    "### Segmenter"
   ]
  },
  {
   "cell_type": "code",
   "execution_count": 12,
   "metadata": {},
   "outputs": [
    {
     "data": {
      "text/plain": [
       "['newer#']"
      ]
     },
     "execution_count": 12,
     "metadata": {},
     "output_type": "execute_result"
    }
   ],
   "source": [
    "from typing import Dict, List\n",
    "\n",
    "class Segmenter(object):\n",
    "    def __init__(self, special_token=\"#\") -> None:\n",
    "        self.special_token = special_token\n",
    "    \n",
    "    \n",
    "    def __get_adjacent_pairs(self, tokens: List[str]) -> Set:            \n",
    "        pairs = set()\n",
    "        \n",
    "        for idx, c in enumerate(tokens):\n",
    "            if idx + 1 == len(tokens):\n",
    "                continue\n",
    "            \n",
    "            pairs.add((c, tokens[idx + 1]))\n",
    "            \n",
    "        \n",
    "        return pairs\n",
    "    \n",
    "    def __merge(self, tokens: List[str], pair: tuple) -> List[str]:  \n",
    "        new_symbol = \" \".join(pair)\n",
    "        space_joined_tokens = \" \".join(tokens)\n",
    "        \n",
    "        encoded = space_joined_tokens.replace(new_symbol, \"\".join(pair)).split()\n",
    "        \n",
    "        return encoded\n",
    "    \n",
    "    \n",
    "    def encode(self, word: str, merge_order: Dict, vocabulary: Set) -> List[str]:\n",
    "        if self.special_token not in word:\n",
    "            word = word + self.special_token\n",
    "            \n",
    "        tokens = list(word)\n",
    "        \n",
    "            \n",
    "        if len(word) == 1 and word in vocabulary:\n",
    "            return list(word)\n",
    "\n",
    "        while True:\n",
    "            pairs = self.__get_adjacent_pairs(tokens)    \n",
    "            merges_for_pair = [\n",
    "                (p, merge_order[p]) for p in pairs if p in merge_order \n",
    "            ]\n",
    "            if not merges_for_pair:\n",
    "                break\n",
    "            \n",
    "            # greedily pick the merge with the lowest serial / order\n",
    "            earliest_merge = min(merges_for_pair, key=lambda k: k[1])\n",
    "            merge_pair = earliest_merge[0]\n",
    "            \n",
    "            # encode\n",
    "            tokens = self.__merge(tokens, merge_pair)\n",
    "            \n",
    "        return tokens\n",
    "\n",
    "segmenter = Segmenter()\n",
    "segmenter.encode(\"newer\", learner.merge_order, learner.vocabulary)"
   ]
  },
  {
   "cell_type": "markdown",
   "metadata": {},
   "source": [
    "### Full tokeniser"
   ]
  },
  {
   "cell_type": "code",
   "execution_count": 13,
   "metadata": {},
   "outputs": [],
   "source": [
    "from tqdm.auto import tqdm\n",
    "\n",
    "class BytePairTokeniser(object):\n",
    "    def __init__(self, corpus: str, special_token=\"#\") -> None:\n",
    "        self.corpus = corpus\n",
    "        self.special_token = special_token\n",
    "        \n",
    "        self.learner = Learner(self.corpus, self.special_token)\n",
    "        self.segmenter = Segmenter(self.special_token)\n",
    "        \n",
    "    def get_vocabulary(self) -> Set:\n",
    "        return self.learner.vocabulary\n",
    "    \n",
    "    def fit(self, k: int) -> None:\n",
    "        self.learner.fit(k)\n",
    "        \n",
    "    def encode_word(self, word: str) -> List[str]:\n",
    "        tokens = self.segmenter.encode(word, self.learner.merge_order, self.learner.vocabulary)\n",
    "        return tokens\n",
    "    \n",
    "    def encode_sentence(self, sentence: str) -> List[str]:\n",
    "        words = sentence.split()\n",
    "        tokens = list()\n",
    "        \n",
    "        for _, w in tqdm(enumerate(words)):        \n",
    "            tokens.append(self.segmenter.encode(\n",
    "                w, self.learner.merge_order, self.learner.vocabulary))\n",
    "        \n",
    "        return tokens\n",
    "    "
   ]
  },
  {
   "cell_type": "code",
   "execution_count": 14,
   "metadata": {},
   "outputs": [],
   "source": [
    "tokeniser = BytePairTokeniser(corpus)"
   ]
  },
  {
   "cell_type": "code",
   "execution_count": 15,
   "metadata": {},
   "outputs": [
    {
     "data": {
      "application/vnd.jupyter.widget-view+json": {
       "model_id": "5cdf9399abd24fe09b9345b31a4de4e6",
       "version_major": 2,
       "version_minor": 0
      },
      "text/plain": [
       "  0%|          | 0/10 [00:00<?, ?it/s]"
      ]
     },
     "metadata": {},
     "output_type": "display_data"
    }
   ],
   "source": [
    "tokeniser.fit(10)"
   ]
  },
  {
   "cell_type": "code",
   "execution_count": 16,
   "metadata": {},
   "outputs": [
    {
     "data": {
      "application/vnd.jupyter.widget-view+json": {
       "model_id": "d1725fa39dae4f398bf8ac0fd575be8b",
       "version_major": 2,
       "version_minor": 0
      },
      "text/plain": [
       "0it [00:00, ?it/s]"
      ]
     },
     "metadata": {},
     "output_type": "display_data"
    },
    {
     "data": {
      "text/plain": [
       "[['low#'],\n",
       " ['low#'],\n",
       " ['low#'],\n",
       " ['low#'],\n",
       " ['low#'],\n",
       " ['low', 'e', 's', 't', '#'],\n",
       " ['low', 'e', 's', 't', '#'],\n",
       " ['newer#'],\n",
       " ['newer#'],\n",
       " ['newer#'],\n",
       " ['newer#'],\n",
       " ['newer#'],\n",
       " ['newer#'],\n",
       " ['wid', 'er#'],\n",
       " ['wid', 'er#'],\n",
       " ['wid', 'er#'],\n",
       " ['new', '#'],\n",
       " ['new', '#']]"
      ]
     },
     "execution_count": 16,
     "metadata": {},
     "output_type": "execute_result"
    }
   ],
   "source": [
    "tokeniser.encode_sentence(corpus)"
   ]
  },
  {
   "cell_type": "code",
   "execution_count": null,
   "metadata": {},
   "outputs": [],
   "source": []
  }
 ],
 "metadata": {
  "kernelspec": {
   "display_name": "Python 3 (ipykernel)",
   "language": "python",
   "name": "python3"
  },
  "language_info": {
   "codemirror_mode": {
    "name": "ipython",
    "version": 3
   },
   "file_extension": ".py",
   "mimetype": "text/x-python",
   "name": "python",
   "nbconvert_exporter": "python",
   "pygments_lexer": "ipython3",
   "version": "3.11.4"
  },
  "widgets": {
   "application/vnd.jupyter.widget-state+json": {
    "state": {
     "0287eed15f82408ba49c39b2323f33e9": {
      "model_module": "@jupyter-widgets/controls",
      "model_module_version": "2.0.0",
      "model_name": "ProgressStyleModel",
      "state": {
       "description_width": ""
      }
     },
     "0371285151b4473081af270bf843b790": {
      "model_module": "@jupyter-widgets/controls",
      "model_module_version": "2.0.0",
      "model_name": "HTMLStyleModel",
      "state": {
       "description_width": "",
       "font_size": null,
       "text_color": null
      }
     },
     "040951e9d55b4776935a869028696a8a": {
      "model_module": "@jupyter-widgets/controls",
      "model_module_version": "2.0.0",
      "model_name": "HTMLModel",
      "state": {
       "layout": "IPY_MODEL_1df6392a5a974ff09db92cefa457bf52",
       "style": "IPY_MODEL_9aec47b95627431da0951e2789c96957",
       "value": " 0/10 [00:00&lt;?, ?it/s]"
      }
     },
     "04391e6721db49dfa0af983aa753c3c0": {
      "model_module": "@jupyter-widgets/controls",
      "model_module_version": "2.0.0",
      "model_name": "FloatProgressModel",
      "state": {
       "bar_style": "danger",
       "layout": "IPY_MODEL_43a80170f3e24fea8d3edba7a67fae8b",
       "max": 10,
       "style": "IPY_MODEL_8f5afc8afaa349d9a99586fff137da72"
      }
     },
     "078cb64e5f8948838fcdcc4243749fb6": {
      "model_module": "@jupyter-widgets/controls",
      "model_module_version": "2.0.0",
      "model_name": "FloatProgressModel",
      "state": {
       "bar_style": "danger",
       "layout": "IPY_MODEL_dd621bfafa584cdb8f27a9b5d3697c24",
       "max": 10,
       "style": "IPY_MODEL_33bb032661504833abe45dc12e2f9abb"
      }
     },
     "0982ffa032c443ba9c9cb26fa3d24a7f": {
      "model_module": "@jupyter-widgets/controls",
      "model_module_version": "2.0.0",
      "model_name": "HTMLModel",
      "state": {
       "layout": "IPY_MODEL_6ceb70c82e43400d9737e095b1e8c1f3",
       "style": "IPY_MODEL_b71b80a456b6433d8847bf05d1ec21db",
       "value": " 10/10 [00:00&lt;00:00, 2434.16it/s]"
      }
     },
     "0a32a979c83d4d65b6e21f6d83bebb71": {
      "model_module": "@jupyter-widgets/base",
      "model_module_version": "2.0.0",
      "model_name": "LayoutModel",
      "state": {}
     },
     "0e5836bc64b84e00aa25e06294642cda": {
      "model_module": "@jupyter-widgets/base",
      "model_module_version": "2.0.0",
      "model_name": "LayoutModel",
      "state": {}
     },
     "103b01a4c56b4a3fad569743f448b065": {
      "model_module": "@jupyter-widgets/base",
      "model_module_version": "2.0.0",
      "model_name": "LayoutModel",
      "state": {}
     },
     "13523d6a4caa404bbf4100a4e0daf36c": {
      "model_module": "@jupyter-widgets/base",
      "model_module_version": "2.0.0",
      "model_name": "LayoutModel",
      "state": {}
     },
     "1a1b1a9828a244368ec69622b3e5f215": {
      "model_module": "@jupyter-widgets/controls",
      "model_module_version": "2.0.0",
      "model_name": "FloatProgressModel",
      "state": {
       "bar_style": "danger",
       "layout": "IPY_MODEL_c3a0496f61cc435a9b8ee93f4edd9c86",
       "max": 10,
       "style": "IPY_MODEL_1ae04ef152874089b4b934583c98f0c3"
      }
     },
     "1ae04ef152874089b4b934583c98f0c3": {
      "model_module": "@jupyter-widgets/controls",
      "model_module_version": "2.0.0",
      "model_name": "ProgressStyleModel",
      "state": {
       "description_width": ""
      }
     },
     "1b9f6b463f4142e28d9335a950813e6f": {
      "model_module": "@jupyter-widgets/controls",
      "model_module_version": "2.0.0",
      "model_name": "FloatProgressModel",
      "state": {
       "bar_style": "danger",
       "layout": "IPY_MODEL_9f51e0b0c3b447f88f63c55a3d35f847",
       "max": 10,
       "style": "IPY_MODEL_4d2b0d1b93194cafae8f89dd5731a295"
      }
     },
     "1dc1fa86f5ab425dba98cdfbf7a2d732": {
      "model_module": "@jupyter-widgets/controls",
      "model_module_version": "2.0.0",
      "model_name": "HTMLModel",
      "state": {
       "layout": "IPY_MODEL_b583b80c7e1d4923892cbfb7c518ce19",
       "style": "IPY_MODEL_91487fdad43646f4b9de61d025c728c3",
       "value": " 0/10 [00:00&lt;?, ?it/s]"
      }
     },
     "1de71fefd61e44039bf1393cf345c264": {
      "model_module": "@jupyter-widgets/base",
      "model_module_version": "2.0.0",
      "model_name": "LayoutModel",
      "state": {}
     },
     "1df6392a5a974ff09db92cefa457bf52": {
      "model_module": "@jupyter-widgets/base",
      "model_module_version": "2.0.0",
      "model_name": "LayoutModel",
      "state": {}
     },
     "1e6f3970b5674a6d935fa46eb56fa73c": {
      "model_module": "@jupyter-widgets/base",
      "model_module_version": "2.0.0",
      "model_name": "LayoutModel",
      "state": {}
     },
     "22315653c7e746fd9976963afee1fce2": {
      "model_module": "@jupyter-widgets/base",
      "model_module_version": "2.0.0",
      "model_name": "LayoutModel",
      "state": {}
     },
     "231193bfdf8447b4be08a3db0f942bb8": {
      "model_module": "@jupyter-widgets/controls",
      "model_module_version": "2.0.0",
      "model_name": "HTMLModel",
      "state": {
       "layout": "IPY_MODEL_67efbcbedd3b44ba827fc5544c2cbc0a",
       "style": "IPY_MODEL_25f246dd663f49a78e954515839ae1e6",
       "value": "100%"
      }
     },
     "23cb1452a9f64fd386fedaa74c652941": {
      "model_module": "@jupyter-widgets/base",
      "model_module_version": "2.0.0",
      "model_name": "LayoutModel",
      "state": {}
     },
     "24397ab9abf14b17879fa0c19f702c0d": {
      "model_module": "@jupyter-widgets/base",
      "model_module_version": "2.0.0",
      "model_name": "LayoutModel",
      "state": {}
     },
     "25f246dd663f49a78e954515839ae1e6": {
      "model_module": "@jupyter-widgets/controls",
      "model_module_version": "2.0.0",
      "model_name": "HTMLStyleModel",
      "state": {
       "description_width": "",
       "font_size": null,
       "text_color": null
      }
     },
     "2649db42451241c4898f64e8a1229cf4": {
      "model_module": "@jupyter-widgets/controls",
      "model_module_version": "2.0.0",
      "model_name": "HBoxModel",
      "state": {
       "children": [
        "IPY_MODEL_cbe44b572e6a49c6b3043ba68b9b0854",
        "IPY_MODEL_de199b816f2d40d7ade8fa2b05f6d0da",
        "IPY_MODEL_d44168bd390747749b9561b22d03f00e"
       ],
       "layout": "IPY_MODEL_23cb1452a9f64fd386fedaa74c652941"
      }
     },
     "27161870afee4348babe70740ade8837": {
      "model_module": "@jupyter-widgets/controls",
      "model_module_version": "2.0.0",
      "model_name": "HTMLModel",
      "state": {
       "layout": "IPY_MODEL_d8fadcc34eaf47109b8b159e720a6943",
       "style": "IPY_MODEL_56b7979291e24853a00ff3f7c0d20084",
       "value": " 0/10 [00:00&lt;?, ?it/s]"
      }
     },
     "271d6d9e99984b6dabb936abbd5d20c0": {
      "model_module": "@jupyter-widgets/controls",
      "model_module_version": "2.0.0",
      "model_name": "FloatProgressModel",
      "state": {
       "bar_style": "success",
       "layout": "IPY_MODEL_739e70c7b9aa40e1aa0f2abf86f70dc2",
       "max": 10,
       "style": "IPY_MODEL_dce26302d1ec40dfb0939265a90c202e",
       "value": 10
      }
     },
     "27dbd64ce21443c3b4ac75d637dae2db": {
      "model_module": "@jupyter-widgets/controls",
      "model_module_version": "2.0.0",
      "model_name": "HTMLStyleModel",
      "state": {
       "description_width": "",
       "font_size": null,
       "text_color": null
      }
     },
     "280c11ec701d4c6ab650ac1237769a0f": {
      "model_module": "@jupyter-widgets/base",
      "model_module_version": "2.0.0",
      "model_name": "LayoutModel",
      "state": {}
     },
     "2948cfd10a934495acbc7aa40a9ec51b": {
      "model_module": "@jupyter-widgets/controls",
      "model_module_version": "2.0.0",
      "model_name": "HTMLModel",
      "state": {
       "layout": "IPY_MODEL_c9e0c9a1e08d47bfadc1c5c1ba132906",
       "style": "IPY_MODEL_7c5fa613ddc54373a5f2c03d19d566f7",
       "value": "  0%"
      }
     },
     "29af8d66dd30489ba626c23c64927cb0": {
      "model_module": "@jupyter-widgets/controls",
      "model_module_version": "2.0.0",
      "model_name": "HTMLStyleModel",
      "state": {
       "description_width": "",
       "font_size": null,
       "text_color": null
      }
     },
     "2d0af6a24a5e4591b6d1f1444a85ba5d": {
      "model_module": "@jupyter-widgets/controls",
      "model_module_version": "2.0.0",
      "model_name": "HTMLStyleModel",
      "state": {
       "description_width": "",
       "font_size": null,
       "text_color": null
      }
     },
     "2da505683cbd43f78d6532f91ee8fd32": {
      "model_module": "@jupyter-widgets/controls",
      "model_module_version": "2.0.0",
      "model_name": "FloatProgressModel",
      "state": {
       "bar_style": "success",
       "layout": "IPY_MODEL_65f160437c814c5cbaaff8bf1cf36c6f",
       "max": 10,
       "style": "IPY_MODEL_616cd4da0e2c4f52b815ccc0a4e84598",
       "value": 10
      }
     },
     "2ede016400ae47439e667e80694fc6bc": {
      "model_module": "@jupyter-widgets/controls",
      "model_module_version": "2.0.0",
      "model_name": "FloatProgressModel",
      "state": {
       "bar_style": "danger",
       "layout": "IPY_MODEL_6e57f2e4c85b487da18eeaf01785ddbb",
       "max": 10,
       "style": "IPY_MODEL_bafdfcd61b0e473697f8fdb0051c08dd"
      }
     },
     "2f3d11bc400940c7911b25a530cdccbc": {
      "model_module": "@jupyter-widgets/controls",
      "model_module_version": "2.0.0",
      "model_name": "ProgressStyleModel",
      "state": {
       "description_width": ""
      }
     },
     "31c228be66e84a2cb2183062f502c57f": {
      "model_module": "@jupyter-widgets/controls",
      "model_module_version": "2.0.0",
      "model_name": "HTMLStyleModel",
      "state": {
       "description_width": "",
       "font_size": null,
       "text_color": null
      }
     },
     "3286216e50e9476ba31752ce71be70e6": {
      "model_module": "@jupyter-widgets/controls",
      "model_module_version": "2.0.0",
      "model_name": "FloatProgressModel",
      "state": {
       "bar_style": "success",
       "layout": "IPY_MODEL_984d2e79d00741beb7c6e7ef065e6e96",
       "max": 10,
       "style": "IPY_MODEL_7acddc5bc6b34d10975d8c265c358182",
       "value": 10
      }
     },
     "32fc55d390934154931bf81e1a61608f": {
      "model_module": "@jupyter-widgets/base",
      "model_module_version": "2.0.0",
      "model_name": "LayoutModel",
      "state": {}
     },
     "33bb032661504833abe45dc12e2f9abb": {
      "model_module": "@jupyter-widgets/controls",
      "model_module_version": "2.0.0",
      "model_name": "ProgressStyleModel",
      "state": {
       "description_width": ""
      }
     },
     "3454fbef0986424084e142630a9d96c1": {
      "model_module": "@jupyter-widgets/controls",
      "model_module_version": "2.0.0",
      "model_name": "HTMLModel",
      "state": {
       "layout": "IPY_MODEL_d5156c4431714745acdcd108adbe7fe0",
       "style": "IPY_MODEL_0371285151b4473081af270bf843b790",
       "value": " 10/10 [00:00&lt;00:00, 2267.07it/s]"
      }
     },
     "34d3891b04b94774b0ff051a8b7e4ef9": {
      "model_module": "@jupyter-widgets/controls",
      "model_module_version": "2.0.0",
      "model_name": "HTMLModel",
      "state": {
       "layout": "IPY_MODEL_13523d6a4caa404bbf4100a4e0daf36c",
       "style": "IPY_MODEL_6a20f6c12ec846888a143aba52a8ce2d",
       "value": "  0%"
      }
     },
     "351d2114a1ad4bfcb1b7b4cf4623ecfb": {
      "model_module": "@jupyter-widgets/base",
      "model_module_version": "2.0.0",
      "model_name": "LayoutModel",
      "state": {}
     },
     "3844e655bb3447bebbd7069575950cf2": {
      "model_module": "@jupyter-widgets/controls",
      "model_module_version": "2.0.0",
      "model_name": "HTMLModel",
      "state": {
       "layout": "IPY_MODEL_98b151b813ec4a258f465e57e27dee99",
       "style": "IPY_MODEL_9810aa12f3244bdbbbd87678d109a544",
       "value": " 0/10 [00:00&lt;?, ?it/s]"
      }
     },
     "3a7423ab541d4638b68d13bf7e03df8d": {
      "model_module": "@jupyter-widgets/controls",
      "model_module_version": "2.0.0",
      "model_name": "HTMLModel",
      "state": {
       "layout": "IPY_MODEL_6c70c569894241b9bde05b0b53f9ecb5",
       "style": "IPY_MODEL_27dbd64ce21443c3b4ac75d637dae2db",
       "value": " 10/10 [00:00&lt;00:00, 2405.13it/s]"
      }
     },
     "3ae814d490c34876a434d934b450e566": {
      "model_module": "@jupyter-widgets/controls",
      "model_module_version": "2.0.0",
      "model_name": "ProgressStyleModel",
      "state": {
       "description_width": ""
      }
     },
     "3b753e41ec7146d795c3e7103f1bf70c": {
      "model_module": "@jupyter-widgets/controls",
      "model_module_version": "2.0.0",
      "model_name": "HTMLStyleModel",
      "state": {
       "description_width": "",
       "font_size": null,
       "text_color": null
      }
     },
     "3ca006ebf39040c69e37515291de6236": {
      "model_module": "@jupyter-widgets/base",
      "model_module_version": "2.0.0",
      "model_name": "LayoutModel",
      "state": {}
     },
     "42c3193502b0482396ad32cf4cd74856": {
      "model_module": "@jupyter-widgets/controls",
      "model_module_version": "2.0.0",
      "model_name": "HTMLModel",
      "state": {
       "layout": "IPY_MODEL_aaaeefce92ee4736b641e0570b8d3da9",
       "style": "IPY_MODEL_2d0af6a24a5e4591b6d1f1444a85ba5d",
       "value": "100%"
      }
     },
     "43a401bd020844cc9391a725cdd3d6c0": {
      "model_module": "@jupyter-widgets/base",
      "model_module_version": "2.0.0",
      "model_name": "LayoutModel",
      "state": {}
     },
     "43a80170f3e24fea8d3edba7a67fae8b": {
      "model_module": "@jupyter-widgets/base",
      "model_module_version": "2.0.0",
      "model_name": "LayoutModel",
      "state": {}
     },
     "4432f8fbfdf1462eb6a79590c01b66bb": {
      "model_module": "@jupyter-widgets/controls",
      "model_module_version": "2.0.0",
      "model_name": "HTMLStyleModel",
      "state": {
       "description_width": "",
       "font_size": null,
       "text_color": null
      }
     },
     "461b2313d3a94eb4ae7bed9e9a827789": {
      "model_module": "@jupyter-widgets/controls",
      "model_module_version": "2.0.0",
      "model_name": "HTMLModel",
      "state": {
       "layout": "IPY_MODEL_e826ae23c2514374abc82b840b453f23",
       "style": "IPY_MODEL_4432f8fbfdf1462eb6a79590c01b66bb",
       "value": "100%"
      }
     },
     "47612ecc62d34e80a8e7c1ef8785f4bd": {
      "model_module": "@jupyter-widgets/controls",
      "model_module_version": "2.0.0",
      "model_name": "HTMLStyleModel",
      "state": {
       "description_width": "",
       "font_size": null,
       "text_color": null
      }
     },
     "47d4ab7dec634c029ea663652684c26a": {
      "model_module": "@jupyter-widgets/base",
      "model_module_version": "2.0.0",
      "model_name": "LayoutModel",
      "state": {}
     },
     "4884a1eba55d44eea37ff567a4ffdcac": {
      "model_module": "@jupyter-widgets/controls",
      "model_module_version": "2.0.0",
      "model_name": "ProgressStyleModel",
      "state": {
       "description_width": ""
      }
     },
     "494b718c4a0347ef937d9133b45e0d1e": {
      "model_module": "@jupyter-widgets/controls",
      "model_module_version": "2.0.0",
      "model_name": "HTMLStyleModel",
      "state": {
       "description_width": "",
       "font_size": null,
       "text_color": null
      }
     },
     "4c2acaaa4dbf4d41b3930a8c48755053": {
      "model_module": "@jupyter-widgets/controls",
      "model_module_version": "2.0.0",
      "model_name": "FloatProgressModel",
      "state": {
       "bar_style": "danger",
       "layout": "IPY_MODEL_4cce017b00f647c89e5f5bef19a6b1a1",
       "max": 10,
       "style": "IPY_MODEL_4884a1eba55d44eea37ff567a4ffdcac"
      }
     },
     "4cce017b00f647c89e5f5bef19a6b1a1": {
      "model_module": "@jupyter-widgets/base",
      "model_module_version": "2.0.0",
      "model_name": "LayoutModel",
      "state": {}
     },
     "4d2b0d1b93194cafae8f89dd5731a295": {
      "model_module": "@jupyter-widgets/controls",
      "model_module_version": "2.0.0",
      "model_name": "ProgressStyleModel",
      "state": {
       "description_width": ""
      }
     },
     "4fd2051e69f444d19652331764553171": {
      "model_module": "@jupyter-widgets/base",
      "model_module_version": "2.0.0",
      "model_name": "LayoutModel",
      "state": {}
     },
     "56b7979291e24853a00ff3f7c0d20084": {
      "model_module": "@jupyter-widgets/controls",
      "model_module_version": "2.0.0",
      "model_name": "HTMLStyleModel",
      "state": {
       "description_width": "",
       "font_size": null,
       "text_color": null
      }
     },
     "56ce1e952c8d40ba9cb994dd8750ccd6": {
      "model_module": "@jupyter-widgets/controls",
      "model_module_version": "2.0.0",
      "model_name": "HTMLStyleModel",
      "state": {
       "description_width": "",
       "font_size": null,
       "text_color": null
      }
     },
     "5747d015afd648c180024c58945c236f": {
      "model_module": "@jupyter-widgets/controls",
      "model_module_version": "2.0.0",
      "model_name": "HTMLModel",
      "state": {
       "layout": "IPY_MODEL_1e6f3970b5674a6d935fa46eb56fa73c",
       "style": "IPY_MODEL_29af8d66dd30489ba626c23c64927cb0",
       "value": "  0%"
      }
     },
     "57c8c05015634252af361343e4902ded": {
      "model_module": "@jupyter-widgets/controls",
      "model_module_version": "2.0.0",
      "model_name": "ProgressStyleModel",
      "state": {
       "description_width": ""
      }
     },
     "585bbbdcabd849dea6968abf1ab2878b": {
      "model_module": "@jupyter-widgets/controls",
      "model_module_version": "2.0.0",
      "model_name": "FloatProgressModel",
      "state": {
       "bar_style": "danger",
       "layout": "IPY_MODEL_b164aa037c124769b976a8d4a66dfece",
       "max": 10,
       "style": "IPY_MODEL_fee68cd855534ee583527fda35c8c96b"
      }
     },
     "5bab5e199e0b46fe9520add4f4aaf7a7": {
      "model_module": "@jupyter-widgets/controls",
      "model_module_version": "2.0.0",
      "model_name": "HTMLStyleModel",
      "state": {
       "description_width": "",
       "font_size": null,
       "text_color": null
      }
     },
     "5c370ee0d4794d578506cdb945385ef2": {
      "model_module": "@jupyter-widgets/base",
      "model_module_version": "2.0.0",
      "model_name": "LayoutModel",
      "state": {}
     },
     "5c7b84918f87477baadd9c86e13460e8": {
      "model_module": "@jupyter-widgets/base",
      "model_module_version": "2.0.0",
      "model_name": "LayoutModel",
      "state": {}
     },
     "5fef889ca60a402a9750e7480958978b": {
      "model_module": "@jupyter-widgets/controls",
      "model_module_version": "2.0.0",
      "model_name": "HBoxModel",
      "state": {
       "children": [
        "IPY_MODEL_66c3bedde9f54288bbdc5ba14a473b9f",
        "IPY_MODEL_585bbbdcabd849dea6968abf1ab2878b",
        "IPY_MODEL_1dc1fa86f5ab425dba98cdfbf7a2d732"
       ],
       "layout": "IPY_MODEL_d7dcd32a70794e3da4149576aedc572e"
      }
     },
     "6083ece64d3b439a8aadd4c98e8de0c0": {
      "model_module": "@jupyter-widgets/controls",
      "model_module_version": "2.0.0",
      "model_name": "FloatProgressModel",
      "state": {
       "bar_style": "success",
       "layout": "IPY_MODEL_d3ac42d5fc0a4075a7c530cb74b9f759",
       "max": 10,
       "style": "IPY_MODEL_3ae814d490c34876a434d934b450e566",
       "value": 10
      }
     },
     "611d64934b1041b8ad85e34126fd14ef": {
      "model_module": "@jupyter-widgets/base",
      "model_module_version": "2.0.0",
      "model_name": "LayoutModel",
      "state": {}
     },
     "616cd4da0e2c4f52b815ccc0a4e84598": {
      "model_module": "@jupyter-widgets/controls",
      "model_module_version": "2.0.0",
      "model_name": "ProgressStyleModel",
      "state": {
       "description_width": ""
      }
     },
     "6229eef3b2e64ad99b01daaae5b840f0": {
      "model_module": "@jupyter-widgets/base",
      "model_module_version": "2.0.0",
      "model_name": "LayoutModel",
      "state": {}
     },
     "65803614195644f5952dc3ed955f5b12": {
      "model_module": "@jupyter-widgets/controls",
      "model_module_version": "2.0.0",
      "model_name": "HTMLStyleModel",
      "state": {
       "description_width": "",
       "font_size": null,
       "text_color": null
      }
     },
     "65f160437c814c5cbaaff8bf1cf36c6f": {
      "model_module": "@jupyter-widgets/base",
      "model_module_version": "2.0.0",
      "model_name": "LayoutModel",
      "state": {}
     },
     "66c3bedde9f54288bbdc5ba14a473b9f": {
      "model_module": "@jupyter-widgets/controls",
      "model_module_version": "2.0.0",
      "model_name": "HTMLModel",
      "state": {
       "layout": "IPY_MODEL_cbc6f2d60654431a8049eb1d2cf0ba82",
       "style": "IPY_MODEL_f65b3f3f306341fea77755d6fa1a9751",
       "value": "  0%"
      }
     },
     "67efbcbedd3b44ba827fc5544c2cbc0a": {
      "model_module": "@jupyter-widgets/base",
      "model_module_version": "2.0.0",
      "model_name": "LayoutModel",
      "state": {}
     },
     "686f0abaaa064d6ba236deb7b104c61c": {
      "model_module": "@jupyter-widgets/controls",
      "model_module_version": "2.0.0",
      "model_name": "HTMLStyleModel",
      "state": {
       "description_width": "",
       "font_size": null,
       "text_color": null
      }
     },
     "69c29ab6a489478fb71085db3088829b": {
      "model_module": "@jupyter-widgets/controls",
      "model_module_version": "2.0.0",
      "model_name": "HBoxModel",
      "state": {
       "children": [
        "IPY_MODEL_f528f250c92a4876bf55ac56af7be05b",
        "IPY_MODEL_3286216e50e9476ba31752ce71be70e6",
        "IPY_MODEL_3a7423ab541d4638b68d13bf7e03df8d"
       ],
       "layout": "IPY_MODEL_22315653c7e746fd9976963afee1fce2"
      }
     },
     "6a20f6c12ec846888a143aba52a8ce2d": {
      "model_module": "@jupyter-widgets/controls",
      "model_module_version": "2.0.0",
      "model_name": "HTMLStyleModel",
      "state": {
       "description_width": "",
       "font_size": null,
       "text_color": null
      }
     },
     "6c26f358f13e42e98b771317b9ba9907": {
      "model_module": "@jupyter-widgets/controls",
      "model_module_version": "2.0.0",
      "model_name": "HTMLStyleModel",
      "state": {
       "description_width": "",
       "font_size": null,
       "text_color": null
      }
     },
     "6c70c569894241b9bde05b0b53f9ecb5": {
      "model_module": "@jupyter-widgets/base",
      "model_module_version": "2.0.0",
      "model_name": "LayoutModel",
      "state": {}
     },
     "6ceb70c82e43400d9737e095b1e8c1f3": {
      "model_module": "@jupyter-widgets/base",
      "model_module_version": "2.0.0",
      "model_name": "LayoutModel",
      "state": {}
     },
     "6d424d1c15174dd8acd531d4f7420fd6": {
      "model_module": "@jupyter-widgets/controls",
      "model_module_version": "2.0.0",
      "model_name": "HTMLModel",
      "state": {
       "layout": "IPY_MODEL_a6a80aba36084e49b48af37b2375ee02",
       "style": "IPY_MODEL_a28a47a581ae4bbc87d3b1a55861b721",
       "value": " 10/10 [00:00&lt;00:00, 2308.37it/s]"
      }
     },
     "6e57f2e4c85b487da18eeaf01785ddbb": {
      "model_module": "@jupyter-widgets/base",
      "model_module_version": "2.0.0",
      "model_name": "LayoutModel",
      "state": {}
     },
     "6efebd28dfb94e8a9d9a48eddbefec73": {
      "model_module": "@jupyter-widgets/controls",
      "model_module_version": "2.0.0",
      "model_name": "HTMLStyleModel",
      "state": {
       "description_width": "",
       "font_size": null,
       "text_color": null
      }
     },
     "6f02b24161a74ca3aa3b0770ab18bdef": {
      "model_module": "@jupyter-widgets/controls",
      "model_module_version": "2.0.0",
      "model_name": "HTMLModel",
      "state": {
       "layout": "IPY_MODEL_d2c0be43862c4422823519d487254b35",
       "style": "IPY_MODEL_f99297deae6749ecab97da32d7b86cdf",
       "value": " 0/10 [00:00&lt;?, ?it/s]"
      }
     },
     "7060fb6ac2df4d68ae23d315a4a7604a": {
      "model_module": "@jupyter-widgets/controls",
      "model_module_version": "2.0.0",
      "model_name": "HBoxModel",
      "state": {
       "children": [
        "IPY_MODEL_c481d5ef38814bfb96760088116968ce",
        "IPY_MODEL_271d6d9e99984b6dabb936abbd5d20c0",
        "IPY_MODEL_d3ca0329853c4c488d1b1a0a9bdfac65"
       ],
       "layout": "IPY_MODEL_927572482f854dc8a620dcc6beab8182"
      }
     },
     "7102344a074b44859e245b5392bdbe11": {
      "model_module": "@jupyter-widgets/controls",
      "model_module_version": "2.0.0",
      "model_name": "HTMLModel",
      "state": {
       "layout": "IPY_MODEL_ed30650ee63f4da4ab4a2213cc888dac",
       "style": "IPY_MODEL_f120e0bffe674958b8d89a9bc801273d",
       "value": "100%"
      }
     },
     "71189cb361384e1285d994e579581406": {
      "model_module": "@jupyter-widgets/base",
      "model_module_version": "2.0.0",
      "model_name": "LayoutModel",
      "state": {}
     },
     "717c5db5d79f4486bb467b6de0accd6a": {
      "model_module": "@jupyter-widgets/base",
      "model_module_version": "2.0.0",
      "model_name": "LayoutModel",
      "state": {}
     },
     "72de23b8f17848099e708a66291ec390": {
      "model_module": "@jupyter-widgets/base",
      "model_module_version": "2.0.0",
      "model_name": "LayoutModel",
      "state": {}
     },
     "739e70c7b9aa40e1aa0f2abf86f70dc2": {
      "model_module": "@jupyter-widgets/base",
      "model_module_version": "2.0.0",
      "model_name": "LayoutModel",
      "state": {}
     },
     "7707ea97a3bf4373b88686ecdf3c9690": {
      "model_module": "@jupyter-widgets/controls",
      "model_module_version": "2.0.0",
      "model_name": "HTMLModel",
      "state": {
       "layout": "IPY_MODEL_103b01a4c56b4a3fad569743f448b065",
       "style": "IPY_MODEL_83126d7364384d4fa35e46b6186f24d8",
       "value": "  0%"
      }
     },
     "799f7da0a90c4a7b8c8f5913596cf6df": {
      "model_module": "@jupyter-widgets/controls",
      "model_module_version": "2.0.0",
      "model_name": "ProgressStyleModel",
      "state": {
       "description_width": ""
      }
     },
     "7a24a40d7cff4a38804d12291bbd9669": {
      "model_module": "@jupyter-widgets/controls",
      "model_module_version": "2.0.0",
      "model_name": "HBoxModel",
      "state": {
       "children": [
        "IPY_MODEL_da3e8d79b87843c7bf23dfaf0a1edd1b",
        "IPY_MODEL_e93e900b5c5649edae9cb29517567619",
        "IPY_MODEL_d99795ea1a1b444cb14cabbe0286d3b0"
       ],
       "layout": "IPY_MODEL_611d64934b1041b8ad85e34126fd14ef"
      }
     },
     "7acddc5bc6b34d10975d8c265c358182": {
      "model_module": "@jupyter-widgets/controls",
      "model_module_version": "2.0.0",
      "model_name": "ProgressStyleModel",
      "state": {
       "description_width": ""
      }
     },
     "7af2d6b8dfba44e99dcef79b24d1a6b9": {
      "model_module": "@jupyter-widgets/controls",
      "model_module_version": "2.0.0",
      "model_name": "ProgressStyleModel",
      "state": {
       "description_width": ""
      }
     },
     "7b6e83c484fe42bbad971dc3768e2f06": {
      "model_module": "@jupyter-widgets/base",
      "model_module_version": "2.0.0",
      "model_name": "LayoutModel",
      "state": {}
     },
     "7c5fa613ddc54373a5f2c03d19d566f7": {
      "model_module": "@jupyter-widgets/controls",
      "model_module_version": "2.0.0",
      "model_name": "HTMLStyleModel",
      "state": {
       "description_width": "",
       "font_size": null,
       "text_color": null
      }
     },
     "83126d7364384d4fa35e46b6186f24d8": {
      "model_module": "@jupyter-widgets/controls",
      "model_module_version": "2.0.0",
      "model_name": "HTMLStyleModel",
      "state": {
       "description_width": "",
       "font_size": null,
       "text_color": null
      }
     },
     "838e2869a2ae4067bb7df832711b1b0a": {
      "model_module": "@jupyter-widgets/controls",
      "model_module_version": "2.0.0",
      "model_name": "HTMLModel",
      "state": {
       "layout": "IPY_MODEL_7b6e83c484fe42bbad971dc3768e2f06",
       "style": "IPY_MODEL_6efebd28dfb94e8a9d9a48eddbefec73",
       "value": "  0%"
      }
     },
     "87971cd04a33427695ae3e80cdc9c251": {
      "model_module": "@jupyter-widgets/controls",
      "model_module_version": "2.0.0",
      "model_name": "HTMLModel",
      "state": {
       "layout": "IPY_MODEL_8aad02f81b1240b0985381b3fb190d4a",
       "style": "IPY_MODEL_494b718c4a0347ef937d9133b45e0d1e",
       "value": " 0/10 [00:00&lt;?, ?it/s]"
      }
     },
     "88e362d4fc9b4cecb1150d622e1cbe62": {
      "model_module": "@jupyter-widgets/base",
      "model_module_version": "2.0.0",
      "model_name": "LayoutModel",
      "state": {}
     },
     "89df15b762ed4dafb6c4dcbdb06880fe": {
      "model_module": "@jupyter-widgets/base",
      "model_module_version": "2.0.0",
      "model_name": "LayoutModel",
      "state": {}
     },
     "8a0e24527b5d40519dddb2f9a79746e3": {
      "model_module": "@jupyter-widgets/controls",
      "model_module_version": "2.0.0",
      "model_name": "HTMLStyleModel",
      "state": {
       "description_width": "",
       "font_size": null,
       "text_color": null
      }
     },
     "8a2c2cd889dc4489b3906a8f28cc23f0": {
      "model_module": "@jupyter-widgets/controls",
      "model_module_version": "2.0.0",
      "model_name": "HBoxModel",
      "state": {
       "children": [
        "IPY_MODEL_34d3891b04b94774b0ff051a8b7e4ef9",
        "IPY_MODEL_2ede016400ae47439e667e80694fc6bc",
        "IPY_MODEL_27161870afee4348babe70740ade8837"
       ],
       "layout": "IPY_MODEL_a54193c2aa524b88b1baef274351e914"
      }
     },
     "8a6b20efcc344185a44eca5c0d496f09": {
      "model_module": "@jupyter-widgets/controls",
      "model_module_version": "2.0.0",
      "model_name": "HTMLModel",
      "state": {
       "layout": "IPY_MODEL_717c5db5d79f4486bb467b6de0accd6a",
       "style": "IPY_MODEL_65803614195644f5952dc3ed955f5b12",
       "value": " 10/10 [00:00&lt;00:00, 2416.35it/s]"
      }
     },
     "8aad02f81b1240b0985381b3fb190d4a": {
      "model_module": "@jupyter-widgets/base",
      "model_module_version": "2.0.0",
      "model_name": "LayoutModel",
      "state": {}
     },
     "8b12bdc775114c74bd807b6963910aa8": {
      "model_module": "@jupyter-widgets/controls",
      "model_module_version": "2.0.0",
      "model_name": "HTMLModel",
      "state": {
       "layout": "IPY_MODEL_9ae126ed608143859dcdac60f159ffc3",
       "style": "IPY_MODEL_a61c17c4b42a47589b12f50a7bcacb0c",
       "value": "  0%"
      }
     },
     "8f5afc8afaa349d9a99586fff137da72": {
      "model_module": "@jupyter-widgets/controls",
      "model_module_version": "2.0.0",
      "model_name": "ProgressStyleModel",
      "state": {
       "description_width": ""
      }
     },
     "91487fdad43646f4b9de61d025c728c3": {
      "model_module": "@jupyter-widgets/controls",
      "model_module_version": "2.0.0",
      "model_name": "HTMLStyleModel",
      "state": {
       "description_width": "",
       "font_size": null,
       "text_color": null
      }
     },
     "917408458a504dab94175d4d6251c30a": {
      "model_module": "@jupyter-widgets/base",
      "model_module_version": "2.0.0",
      "model_name": "LayoutModel",
      "state": {}
     },
     "919d7229c99a4507903c5d58e6af20de": {
      "model_module": "@jupyter-widgets/controls",
      "model_module_version": "2.0.0",
      "model_name": "HTMLModel",
      "state": {
       "layout": "IPY_MODEL_88e362d4fc9b4cecb1150d622e1cbe62",
       "style": "IPY_MODEL_bca13eb9928f41a5911b69c811a0d5ca",
       "value": "100%"
      }
     },
     "91c3d3804eef486595718014ab6a0227": {
      "model_module": "@jupyter-widgets/controls",
      "model_module_version": "2.0.0",
      "model_name": "HTMLModel",
      "state": {
       "layout": "IPY_MODEL_351d2114a1ad4bfcb1b7b4cf4623ecfb",
       "style": "IPY_MODEL_e2f29e10102a4d70b8d309f936eec668",
       "value": " 0/10 [00:00&lt;?, ?it/s]"
      }
     },
     "927572482f854dc8a620dcc6beab8182": {
      "model_module": "@jupyter-widgets/base",
      "model_module_version": "2.0.0",
      "model_name": "LayoutModel",
      "state": {}
     },
     "940b40134940422e94474d0a4df8c74a": {
      "model_module": "@jupyter-widgets/base",
      "model_module_version": "2.0.0",
      "model_name": "LayoutModel",
      "state": {}
     },
     "9789f6e3399f4b608655264c931912fb": {
      "model_module": "@jupyter-widgets/controls",
      "model_module_version": "2.0.0",
      "model_name": "HBoxModel",
      "state": {
       "children": [
        "IPY_MODEL_2948cfd10a934495acbc7aa40a9ec51b",
        "IPY_MODEL_a541b0abd53e455eb6493a51cd72f5f1",
        "IPY_MODEL_da0fd29637204ed2884c7359610afad6"
       ],
       "layout": "IPY_MODEL_24397ab9abf14b17879fa0c19f702c0d"
      }
     },
     "9810aa12f3244bdbbbd87678d109a544": {
      "model_module": "@jupyter-widgets/controls",
      "model_module_version": "2.0.0",
      "model_name": "HTMLStyleModel",
      "state": {
       "description_width": "",
       "font_size": null,
       "text_color": null
      }
     },
     "984d2e79d00741beb7c6e7ef065e6e96": {
      "model_module": "@jupyter-widgets/base",
      "model_module_version": "2.0.0",
      "model_name": "LayoutModel",
      "state": {}
     },
     "98b151b813ec4a258f465e57e27dee99": {
      "model_module": "@jupyter-widgets/base",
      "model_module_version": "2.0.0",
      "model_name": "LayoutModel",
      "state": {}
     },
     "99e70d0ed58a48048b8b4e823fba3822": {
      "model_module": "@jupyter-widgets/base",
      "model_module_version": "2.0.0",
      "model_name": "LayoutModel",
      "state": {}
     },
     "9ae126ed608143859dcdac60f159ffc3": {
      "model_module": "@jupyter-widgets/base",
      "model_module_version": "2.0.0",
      "model_name": "LayoutModel",
      "state": {}
     },
     "9aec47b95627431da0951e2789c96957": {
      "model_module": "@jupyter-widgets/controls",
      "model_module_version": "2.0.0",
      "model_name": "HTMLStyleModel",
      "state": {
       "description_width": "",
       "font_size": null,
       "text_color": null
      }
     },
     "9afaa0f1580046dfb20c9e6c12e3deb4": {
      "model_module": "@jupyter-widgets/controls",
      "model_module_version": "2.0.0",
      "model_name": "HBoxModel",
      "state": {
       "children": [
        "IPY_MODEL_5747d015afd648c180024c58945c236f",
        "IPY_MODEL_4c2acaaa4dbf4d41b3930a8c48755053",
        "IPY_MODEL_91c3d3804eef486595718014ab6a0227"
       ],
       "layout": "IPY_MODEL_3ca006ebf39040c69e37515291de6236"
      }
     },
     "9bdbd142a07e41f18483356e71f422e7": {
      "model_module": "@jupyter-widgets/base",
      "model_module_version": "2.0.0",
      "model_name": "LayoutModel",
      "state": {}
     },
     "9d32cc8f7148480a9b6a671dffae5bd6": {
      "model_module": "@jupyter-widgets/base",
      "model_module_version": "2.0.0",
      "model_name": "LayoutModel",
      "state": {}
     },
     "9f51e0b0c3b447f88f63c55a3d35f847": {
      "model_module": "@jupyter-widgets/base",
      "model_module_version": "2.0.0",
      "model_name": "LayoutModel",
      "state": {}
     },
     "a133b8920f8c4a4c9dcace60d854cd7e": {
      "model_module": "@jupyter-widgets/base",
      "model_module_version": "2.0.0",
      "model_name": "LayoutModel",
      "state": {}
     },
     "a20f21d3f1f3483c9dc8976add647e8f": {
      "model_module": "@jupyter-widgets/controls",
      "model_module_version": "2.0.0",
      "model_name": "HBoxModel",
      "state": {
       "children": [
        "IPY_MODEL_7707ea97a3bf4373b88686ecdf3c9690",
        "IPY_MODEL_1b9f6b463f4142e28d9335a950813e6f",
        "IPY_MODEL_6f02b24161a74ca3aa3b0770ab18bdef"
       ],
       "layout": "IPY_MODEL_dbd5a7038dc14e94ac1d44ea7a554b27"
      }
     },
     "a28a47a581ae4bbc87d3b1a55861b721": {
      "model_module": "@jupyter-widgets/controls",
      "model_module_version": "2.0.0",
      "model_name": "HTMLStyleModel",
      "state": {
       "description_width": "",
       "font_size": null,
       "text_color": null
      }
     },
     "a2d3958bb1cb4c0db7f94ad55e404f9a": {
      "model_module": "@jupyter-widgets/controls",
      "model_module_version": "2.0.0",
      "model_name": "HBoxModel",
      "state": {
       "children": [
        "IPY_MODEL_838e2869a2ae4067bb7df832711b1b0a",
        "IPY_MODEL_1a1b1a9828a244368ec69622b3e5f215",
        "IPY_MODEL_87971cd04a33427695ae3e80cdc9c251"
       ],
       "layout": "IPY_MODEL_1de71fefd61e44039bf1393cf345c264"
      }
     },
     "a45c14ff908e46ccba210d6f78e7080e": {
      "model_module": "@jupyter-widgets/controls",
      "model_module_version": "2.0.0",
      "model_name": "HBoxModel",
      "state": {
       "children": [
        "IPY_MODEL_7102344a074b44859e245b5392bdbe11",
        "IPY_MODEL_2da505683cbd43f78d6532f91ee8fd32",
        "IPY_MODEL_3454fbef0986424084e142630a9d96c1"
       ],
       "layout": "IPY_MODEL_4fd2051e69f444d19652331764553171"
      }
     },
     "a54193c2aa524b88b1baef274351e914": {
      "model_module": "@jupyter-widgets/base",
      "model_module_version": "2.0.0",
      "model_name": "LayoutModel",
      "state": {}
     },
     "a541b0abd53e455eb6493a51cd72f5f1": {
      "model_module": "@jupyter-widgets/controls",
      "model_module_version": "2.0.0",
      "model_name": "FloatProgressModel",
      "state": {
       "bar_style": "danger",
       "layout": "IPY_MODEL_0e5836bc64b84e00aa25e06294642cda",
       "max": 10,
       "style": "IPY_MODEL_add5edf756e8483fb1988cac6ce66088"
      }
     },
     "a5fd8982476642c7b518087ec47d5d06": {
      "model_module": "@jupyter-widgets/controls",
      "model_module_version": "2.0.0",
      "model_name": "FloatProgressModel",
      "state": {
       "bar_style": "success",
       "layout": "IPY_MODEL_940b40134940422e94474d0a4df8c74a",
       "max": 10,
       "style": "IPY_MODEL_2f3d11bc400940c7911b25a530cdccbc",
       "value": 10
      }
     },
     "a61c17c4b42a47589b12f50a7bcacb0c": {
      "model_module": "@jupyter-widgets/controls",
      "model_module_version": "2.0.0",
      "model_name": "HTMLStyleModel",
      "state": {
       "description_width": "",
       "font_size": null,
       "text_color": null
      }
     },
     "a6a80aba36084e49b48af37b2375ee02": {
      "model_module": "@jupyter-widgets/base",
      "model_module_version": "2.0.0",
      "model_name": "LayoutModel",
      "state": {}
     },
     "a72d28408e754f2c8b4b612d83f4f433": {
      "model_module": "@jupyter-widgets/controls",
      "model_module_version": "2.0.0",
      "model_name": "HTMLStyleModel",
      "state": {
       "description_width": "",
       "font_size": null,
       "text_color": null
      }
     },
     "a7bba158cd05441cb064c18741f21d82": {
      "model_module": "@jupyter-widgets/controls",
      "model_module_version": "2.0.0",
      "model_name": "FloatProgressModel",
      "state": {
       "bar_style": "danger",
       "layout": "IPY_MODEL_0a32a979c83d4d65b6e21f6d83bebb71",
       "max": 10,
       "style": "IPY_MODEL_799f7da0a90c4a7b8c8f5913596cf6df"
      }
     },
     "aaaeefce92ee4736b641e0570b8d3da9": {
      "model_module": "@jupyter-widgets/base",
      "model_module_version": "2.0.0",
      "model_name": "LayoutModel",
      "state": {}
     },
     "add5edf756e8483fb1988cac6ce66088": {
      "model_module": "@jupyter-widgets/controls",
      "model_module_version": "2.0.0",
      "model_name": "ProgressStyleModel",
      "state": {
       "description_width": ""
      }
     },
     "b0fb06d5802048aca1262147d9941dda": {
      "model_module": "@jupyter-widgets/base",
      "model_module_version": "2.0.0",
      "model_name": "LayoutModel",
      "state": {}
     },
     "b164aa037c124769b976a8d4a66dfece": {
      "model_module": "@jupyter-widgets/base",
      "model_module_version": "2.0.0",
      "model_name": "LayoutModel",
      "state": {}
     },
     "b193c9d3cf784316b6d5c18155d0df79": {
      "model_module": "@jupyter-widgets/controls",
      "model_module_version": "2.0.0",
      "model_name": "HTMLStyleModel",
      "state": {
       "description_width": "",
       "font_size": null,
       "text_color": null
      }
     },
     "b583b80c7e1d4923892cbfb7c518ce19": {
      "model_module": "@jupyter-widgets/base",
      "model_module_version": "2.0.0",
      "model_name": "LayoutModel",
      "state": {}
     },
     "b6529eeae396490aaa35a95aaab7dc1f": {
      "model_module": "@jupyter-widgets/base",
      "model_module_version": "2.0.0",
      "model_name": "LayoutModel",
      "state": {}
     },
     "b71b80a456b6433d8847bf05d1ec21db": {
      "model_module": "@jupyter-widgets/controls",
      "model_module_version": "2.0.0",
      "model_name": "HTMLStyleModel",
      "state": {
       "description_width": "",
       "font_size": null,
       "text_color": null
      }
     },
     "b7cacf9b89e44b04a5a77254babf162f": {
      "model_module": "@jupyter-widgets/base",
      "model_module_version": "2.0.0",
      "model_name": "LayoutModel",
      "state": {}
     },
     "ba13fbf96f16445dbb8577bd5b2c9cbc": {
      "model_module": "@jupyter-widgets/controls",
      "model_module_version": "2.0.0",
      "model_name": "HBoxModel",
      "state": {
       "children": [
        "IPY_MODEL_461b2313d3a94eb4ae7bed9e9a827789",
        "IPY_MODEL_a5fd8982476642c7b518087ec47d5d06",
        "IPY_MODEL_0982ffa032c443ba9c9cb26fa3d24a7f"
       ],
       "layout": "IPY_MODEL_917408458a504dab94175d4d6251c30a"
      }
     },
     "bad8963f85c14c60841ac88baf89ae70": {
      "model_module": "@jupyter-widgets/controls",
      "model_module_version": "2.0.0",
      "model_name": "HTMLStyleModel",
      "state": {
       "description_width": "",
       "font_size": null,
       "text_color": null
      }
     },
     "bafdfcd61b0e473697f8fdb0051c08dd": {
      "model_module": "@jupyter-widgets/controls",
      "model_module_version": "2.0.0",
      "model_name": "ProgressStyleModel",
      "state": {
       "description_width": ""
      }
     },
     "bb86b64ef0eb4e36b9eb7ed34d66077c": {
      "model_module": "@jupyter-widgets/controls",
      "model_module_version": "2.0.0",
      "model_name": "HTMLStyleModel",
      "state": {
       "description_width": "",
       "font_size": null,
       "text_color": null
      }
     },
     "bca13eb9928f41a5911b69c811a0d5ca": {
      "model_module": "@jupyter-widgets/controls",
      "model_module_version": "2.0.0",
      "model_name": "HTMLStyleModel",
      "state": {
       "description_width": "",
       "font_size": null,
       "text_color": null
      }
     },
     "bd08a6ff4e88407f94c7f3bc3152686c": {
      "model_module": "@jupyter-widgets/controls",
      "model_module_version": "2.0.0",
      "model_name": "HBoxModel",
      "state": {
       "children": [
        "IPY_MODEL_fbcf7f19a65641f1972e9f16ff6d8593",
        "IPY_MODEL_078cb64e5f8948838fcdcc4243749fb6",
        "IPY_MODEL_040951e9d55b4776935a869028696a8a"
       ],
       "layout": "IPY_MODEL_c689b2e03fde4cfd8598924ca0389405"
      }
     },
     "c13d5443fbba42c198596bc354db92da": {
      "model_module": "@jupyter-widgets/controls",
      "model_module_version": "2.0.0",
      "model_name": "ProgressStyleModel",
      "state": {
       "description_width": ""
      }
     },
     "c1a061760a0541d2be51f7c4ef20f64f": {
      "model_module": "@jupyter-widgets/controls",
      "model_module_version": "2.0.0",
      "model_name": "HTMLModel",
      "state": {
       "layout": "IPY_MODEL_9d32cc8f7148480a9b6a671dffae5bd6",
       "style": "IPY_MODEL_bad8963f85c14c60841ac88baf89ae70",
       "value": " 10/10 [00:00&lt;00:00, 2250.77it/s]"
      }
     },
     "c1fd244b14f64effad2acdd469d411e4": {
      "model_module": "@jupyter-widgets/base",
      "model_module_version": "2.0.0",
      "model_name": "LayoutModel",
      "state": {}
     },
     "c3a0496f61cc435a9b8ee93f4edd9c86": {
      "model_module": "@jupyter-widgets/base",
      "model_module_version": "2.0.0",
      "model_name": "LayoutModel",
      "state": {}
     },
     "c481d5ef38814bfb96760088116968ce": {
      "model_module": "@jupyter-widgets/controls",
      "model_module_version": "2.0.0",
      "model_name": "HTMLModel",
      "state": {
       "layout": "IPY_MODEL_89df15b762ed4dafb6c4dcbdb06880fe",
       "style": "IPY_MODEL_bb86b64ef0eb4e36b9eb7ed34d66077c",
       "value": "100%"
      }
     },
     "c619375cb91442d4a86393cc4da7a0f9": {
      "model_module": "@jupyter-widgets/controls",
      "model_module_version": "2.0.0",
      "model_name": "HTMLStyleModel",
      "state": {
       "description_width": "",
       "font_size": null,
       "text_color": null
      }
     },
     "c689b2e03fde4cfd8598924ca0389405": {
      "model_module": "@jupyter-widgets/base",
      "model_module_version": "2.0.0",
      "model_name": "LayoutModel",
      "state": {}
     },
     "c6951a29299346dda14b28ff262e35df": {
      "model_module": "@jupyter-widgets/controls",
      "model_module_version": "2.0.0",
      "model_name": "HBoxModel",
      "state": {
       "children": [
        "IPY_MODEL_919d7229c99a4507903c5d58e6af20de",
        "IPY_MODEL_6083ece64d3b439a8aadd4c98e8de0c0",
        "IPY_MODEL_c1a061760a0541d2be51f7c4ef20f64f"
       ],
       "layout": "IPY_MODEL_6229eef3b2e64ad99b01daaae5b840f0"
      }
     },
     "c74aa298124e44ad8b4a7c710346f08c": {
      "model_module": "@jupyter-widgets/base",
      "model_module_version": "2.0.0",
      "model_name": "LayoutModel",
      "state": {}
     },
     "c9e0c9a1e08d47bfadc1c5c1ba132906": {
      "model_module": "@jupyter-widgets/base",
      "model_module_version": "2.0.0",
      "model_name": "LayoutModel",
      "state": {}
     },
     "cbc6f2d60654431a8049eb1d2cf0ba82": {
      "model_module": "@jupyter-widgets/base",
      "model_module_version": "2.0.0",
      "model_name": "LayoutModel",
      "state": {}
     },
     "cbe44b572e6a49c6b3043ba68b9b0854": {
      "model_module": "@jupyter-widgets/controls",
      "model_module_version": "2.0.0",
      "model_name": "HTMLModel",
      "state": {
       "layout": "IPY_MODEL_280c11ec701d4c6ab650ac1237769a0f",
       "style": "IPY_MODEL_686f0abaaa064d6ba236deb7b104c61c",
       "value": "  0%"
      }
     },
     "cdce25e1fdb0423f96a8f0ed15323a58": {
      "model_module": "@jupyter-widgets/controls",
      "model_module_version": "2.0.0",
      "model_name": "HBoxModel",
      "state": {
       "children": [
        "IPY_MODEL_42c3193502b0482396ad32cf4cd74856",
        "IPY_MODEL_e599a708d2e8409ab57ad4f788524d22",
        "IPY_MODEL_ed03fb3719bf4268ad1344451019cd2b"
       ],
       "layout": "IPY_MODEL_c1fd244b14f64effad2acdd469d411e4"
      }
     },
     "d18dee8810274c088c190f8eab011d0c": {
      "model_module": "@jupyter-widgets/base",
      "model_module_version": "2.0.0",
      "model_name": "LayoutModel",
      "state": {}
     },
     "d2c0be43862c4422823519d487254b35": {
      "model_module": "@jupyter-widgets/base",
      "model_module_version": "2.0.0",
      "model_name": "LayoutModel",
      "state": {}
     },
     "d3ac42d5fc0a4075a7c530cb74b9f759": {
      "model_module": "@jupyter-widgets/base",
      "model_module_version": "2.0.0",
      "model_name": "LayoutModel",
      "state": {}
     },
     "d3ca0329853c4c488d1b1a0a9bdfac65": {
      "model_module": "@jupyter-widgets/controls",
      "model_module_version": "2.0.0",
      "model_name": "HTMLModel",
      "state": {
       "layout": "IPY_MODEL_d63581333a24435e97633843e0adf7e7",
       "style": "IPY_MODEL_31c228be66e84a2cb2183062f502c57f",
       "value": " 10/10 [00:00&lt;00:00, 2340.70it/s]"
      }
     },
     "d44168bd390747749b9561b22d03f00e": {
      "model_module": "@jupyter-widgets/controls",
      "model_module_version": "2.0.0",
      "model_name": "HTMLModel",
      "state": {
       "layout": "IPY_MODEL_b7cacf9b89e44b04a5a77254babf162f",
       "style": "IPY_MODEL_6c26f358f13e42e98b771317b9ba9907",
       "value": " 0/10 [00:00&lt;?, ?it/s]"
      }
     },
     "d5156c4431714745acdcd108adbe7fe0": {
      "model_module": "@jupyter-widgets/base",
      "model_module_version": "2.0.0",
      "model_name": "LayoutModel",
      "state": {}
     },
     "d63581333a24435e97633843e0adf7e7": {
      "model_module": "@jupyter-widgets/base",
      "model_module_version": "2.0.0",
      "model_name": "LayoutModel",
      "state": {}
     },
     "d685eb051e8d40cf9cf0efa23271d71a": {
      "model_module": "@jupyter-widgets/controls",
      "model_module_version": "2.0.0",
      "model_name": "FloatProgressModel",
      "state": {
       "bar_style": "success",
       "layout": "IPY_MODEL_99e70d0ed58a48048b8b4e823fba3822",
       "max": 10,
       "style": "IPY_MODEL_0287eed15f82408ba49c39b2323f33e9",
       "value": 10
      }
     },
     "d7dcd32a70794e3da4149576aedc572e": {
      "model_module": "@jupyter-widgets/base",
      "model_module_version": "2.0.0",
      "model_name": "LayoutModel",
      "state": {}
     },
     "d8fadcc34eaf47109b8b159e720a6943": {
      "model_module": "@jupyter-widgets/base",
      "model_module_version": "2.0.0",
      "model_name": "LayoutModel",
      "state": {}
     },
     "d99795ea1a1b444cb14cabbe0286d3b0": {
      "model_module": "@jupyter-widgets/controls",
      "model_module_version": "2.0.0",
      "model_name": "HTMLModel",
      "state": {
       "layout": "IPY_MODEL_9bdbd142a07e41f18483356e71f422e7",
       "style": "IPY_MODEL_8a0e24527b5d40519dddb2f9a79746e3",
       "value": " 10/10 [00:00&lt;00:00, 1543.90it/s]"
      }
     },
     "da0fd29637204ed2884c7359610afad6": {
      "model_module": "@jupyter-widgets/controls",
      "model_module_version": "2.0.0",
      "model_name": "HTMLModel",
      "state": {
       "layout": "IPY_MODEL_71189cb361384e1285d994e579581406",
       "style": "IPY_MODEL_a72d28408e754f2c8b4b612d83f4f433",
       "value": " 0/10 [00:00&lt;?, ?it/s]"
      }
     },
     "da3e8d79b87843c7bf23dfaf0a1edd1b": {
      "model_module": "@jupyter-widgets/controls",
      "model_module_version": "2.0.0",
      "model_name": "HTMLModel",
      "state": {
       "layout": "IPY_MODEL_72de23b8f17848099e708a66291ec390",
       "style": "IPY_MODEL_b193c9d3cf784316b6d5c18155d0df79",
       "value": "100%"
      }
     },
     "daa22ddc8a5c458494084009f5658073": {
      "model_module": "@jupyter-widgets/controls",
      "model_module_version": "2.0.0",
      "model_name": "HBoxModel",
      "state": {
       "children": [
        "IPY_MODEL_8b12bdc775114c74bd807b6963910aa8",
        "IPY_MODEL_04391e6721db49dfa0af983aa753c3c0",
        "IPY_MODEL_e02d69758266484996bc9be002c2291f"
       ],
       "layout": "IPY_MODEL_a133b8920f8c4a4c9dcace60d854cd7e"
      }
     },
     "daf9f6f80c084fd7b44c928b53cdc915": {
      "model_module": "@jupyter-widgets/controls",
      "model_module_version": "2.0.0",
      "model_name": "HTMLStyleModel",
      "state": {
       "description_width": "",
       "font_size": null,
       "text_color": null
      }
     },
     "dbd5a7038dc14e94ac1d44ea7a554b27": {
      "model_module": "@jupyter-widgets/base",
      "model_module_version": "2.0.0",
      "model_name": "LayoutModel",
      "state": {}
     },
     "dce26302d1ec40dfb0939265a90c202e": {
      "model_module": "@jupyter-widgets/controls",
      "model_module_version": "2.0.0",
      "model_name": "ProgressStyleModel",
      "state": {
       "description_width": ""
      }
     },
     "dcf476828ab546f3aa5590b1a616d563": {
      "model_module": "@jupyter-widgets/controls",
      "model_module_version": "2.0.0",
      "model_name": "HBoxModel",
      "state": {
       "children": [
        "IPY_MODEL_dd5050fbcb254b769e6781da865dfba5",
        "IPY_MODEL_d685eb051e8d40cf9cf0efa23271d71a",
        "IPY_MODEL_6d424d1c15174dd8acd531d4f7420fd6"
       ],
       "layout": "IPY_MODEL_f1583d0d7faf4cad91cda36f63dc458b"
      }
     },
     "dd5050fbcb254b769e6781da865dfba5": {
      "model_module": "@jupyter-widgets/controls",
      "model_module_version": "2.0.0",
      "model_name": "HTMLModel",
      "state": {
       "layout": "IPY_MODEL_f1d3cd5fdd694245aa67376eeaa58acf",
       "style": "IPY_MODEL_3b753e41ec7146d795c3e7103f1bf70c",
       "value": "100%"
      }
     },
     "dd621bfafa584cdb8f27a9b5d3697c24": {
      "model_module": "@jupyter-widgets/base",
      "model_module_version": "2.0.0",
      "model_name": "LayoutModel",
      "state": {}
     },
     "de199b816f2d40d7ade8fa2b05f6d0da": {
      "model_module": "@jupyter-widgets/controls",
      "model_module_version": "2.0.0",
      "model_name": "FloatProgressModel",
      "state": {
       "bar_style": "danger",
       "layout": "IPY_MODEL_c74aa298124e44ad8b4a7c710346f08c",
       "max": 10,
       "style": "IPY_MODEL_c13d5443fbba42c198596bc354db92da"
      }
     },
     "e02d69758266484996bc9be002c2291f": {
      "model_module": "@jupyter-widgets/controls",
      "model_module_version": "2.0.0",
      "model_name": "HTMLModel",
      "state": {
       "layout": "IPY_MODEL_5c370ee0d4794d578506cdb945385ef2",
       "style": "IPY_MODEL_daf9f6f80c084fd7b44c928b53cdc915",
       "value": " 0/10 [00:00&lt;?, ?it/s]"
      }
     },
     "e2f29e10102a4d70b8d309f936eec668": {
      "model_module": "@jupyter-widgets/controls",
      "model_module_version": "2.0.0",
      "model_name": "HTMLStyleModel",
      "state": {
       "description_width": "",
       "font_size": null,
       "text_color": null
      }
     },
     "e4f2f75bdcfc4aacac860b671419a3f1": {
      "model_module": "@jupyter-widgets/base",
      "model_module_version": "2.0.0",
      "model_name": "LayoutModel",
      "state": {}
     },
     "e599a708d2e8409ab57ad4f788524d22": {
      "model_module": "@jupyter-widgets/controls",
      "model_module_version": "2.0.0",
      "model_name": "FloatProgressModel",
      "state": {
       "bar_style": "success",
       "layout": "IPY_MODEL_e4f2f75bdcfc4aacac860b671419a3f1",
       "style": "IPY_MODEL_efc8def8c1774b9cbd208b89d44407fb",
       "value": 100
      }
     },
     "e67b0392740043aeb2bde8fc409fb5b0": {
      "model_module": "@jupyter-widgets/base",
      "model_module_version": "2.0.0",
      "model_name": "LayoutModel",
      "state": {}
     },
     "e826ae23c2514374abc82b840b453f23": {
      "model_module": "@jupyter-widgets/base",
      "model_module_version": "2.0.0",
      "model_name": "LayoutModel",
      "state": {}
     },
     "e93e900b5c5649edae9cb29517567619": {
      "model_module": "@jupyter-widgets/controls",
      "model_module_version": "2.0.0",
      "model_name": "FloatProgressModel",
      "state": {
       "bar_style": "success",
       "layout": "IPY_MODEL_b6529eeae396490aaa35a95aaab7dc1f",
       "max": 10,
       "style": "IPY_MODEL_57c8c05015634252af361343e4902ded",
       "value": 10
      }
     },
     "ed03fb3719bf4268ad1344451019cd2b": {
      "model_module": "@jupyter-widgets/controls",
      "model_module_version": "2.0.0",
      "model_name": "HTMLModel",
      "state": {
       "layout": "IPY_MODEL_d18dee8810274c088c190f8eab011d0c",
       "style": "IPY_MODEL_c619375cb91442d4a86393cc4da7a0f9",
       "value": " 100/100 [00:00&lt;00:00, 14962.56it/s]"
      }
     },
     "ed30650ee63f4da4ab4a2213cc888dac": {
      "model_module": "@jupyter-widgets/base",
      "model_module_version": "2.0.0",
      "model_name": "LayoutModel",
      "state": {}
     },
     "edc5da0db32042428e041ea4cd641636": {
      "model_module": "@jupyter-widgets/controls",
      "model_module_version": "2.0.0",
      "model_name": "HTMLModel",
      "state": {
       "layout": "IPY_MODEL_32fc55d390934154931bf81e1a61608f",
       "style": "IPY_MODEL_5bab5e199e0b46fe9520add4f4aaf7a7",
       "value": "  0%"
      }
     },
     "eeb9364e7f2e447a95c855b01063a043": {
      "model_module": "@jupyter-widgets/controls",
      "model_module_version": "2.0.0",
      "model_name": "FloatProgressModel",
      "state": {
       "bar_style": "success",
       "layout": "IPY_MODEL_e67b0392740043aeb2bde8fc409fb5b0",
       "max": 10,
       "style": "IPY_MODEL_7af2d6b8dfba44e99dcef79b24d1a6b9",
       "value": 10
      }
     },
     "efc8def8c1774b9cbd208b89d44407fb": {
      "model_module": "@jupyter-widgets/controls",
      "model_module_version": "2.0.0",
      "model_name": "ProgressStyleModel",
      "state": {
       "description_width": ""
      }
     },
     "f120e0bffe674958b8d89a9bc801273d": {
      "model_module": "@jupyter-widgets/controls",
      "model_module_version": "2.0.0",
      "model_name": "HTMLStyleModel",
      "state": {
       "description_width": "",
       "font_size": null,
       "text_color": null
      }
     },
     "f1583d0d7faf4cad91cda36f63dc458b": {
      "model_module": "@jupyter-widgets/base",
      "model_module_version": "2.0.0",
      "model_name": "LayoutModel",
      "state": {}
     },
     "f1d3cd5fdd694245aa67376eeaa58acf": {
      "model_module": "@jupyter-widgets/base",
      "model_module_version": "2.0.0",
      "model_name": "LayoutModel",
      "state": {}
     },
     "f528f250c92a4876bf55ac56af7be05b": {
      "model_module": "@jupyter-widgets/controls",
      "model_module_version": "2.0.0",
      "model_name": "HTMLModel",
      "state": {
       "layout": "IPY_MODEL_b0fb06d5802048aca1262147d9941dda",
       "style": "IPY_MODEL_47612ecc62d34e80a8e7c1ef8785f4bd",
       "value": "100%"
      }
     },
     "f65b3f3f306341fea77755d6fa1a9751": {
      "model_module": "@jupyter-widgets/controls",
      "model_module_version": "2.0.0",
      "model_name": "HTMLStyleModel",
      "state": {
       "description_width": "",
       "font_size": null,
       "text_color": null
      }
     },
     "f99297deae6749ecab97da32d7b86cdf": {
      "model_module": "@jupyter-widgets/controls",
      "model_module_version": "2.0.0",
      "model_name": "HTMLStyleModel",
      "state": {
       "description_width": "",
       "font_size": null,
       "text_color": null
      }
     },
     "fb684bb668ca445d872a03991b2a5c00": {
      "model_module": "@jupyter-widgets/controls",
      "model_module_version": "2.0.0",
      "model_name": "HBoxModel",
      "state": {
       "children": [
        "IPY_MODEL_231193bfdf8447b4be08a3db0f942bb8",
        "IPY_MODEL_eeb9364e7f2e447a95c855b01063a043",
        "IPY_MODEL_8a6b20efcc344185a44eca5c0d496f09"
       ],
       "layout": "IPY_MODEL_5c7b84918f87477baadd9c86e13460e8"
      }
     },
     "fbcf7f19a65641f1972e9f16ff6d8593": {
      "model_module": "@jupyter-widgets/controls",
      "model_module_version": "2.0.0",
      "model_name": "HTMLModel",
      "state": {
       "layout": "IPY_MODEL_43a401bd020844cc9391a725cdd3d6c0",
       "style": "IPY_MODEL_56ce1e952c8d40ba9cb994dd8750ccd6",
       "value": "  0%"
      }
     },
     "fe3745fc49c148ffad8e5663afcd8cc1": {
      "model_module": "@jupyter-widgets/controls",
      "model_module_version": "2.0.0",
      "model_name": "HBoxModel",
      "state": {
       "children": [
        "IPY_MODEL_edc5da0db32042428e041ea4cd641636",
        "IPY_MODEL_a7bba158cd05441cb064c18741f21d82",
        "IPY_MODEL_3844e655bb3447bebbd7069575950cf2"
       ],
       "layout": "IPY_MODEL_47d4ab7dec634c029ea663652684c26a"
      }
     },
     "fee68cd855534ee583527fda35c8c96b": {
      "model_module": "@jupyter-widgets/controls",
      "model_module_version": "2.0.0",
      "model_name": "ProgressStyleModel",
      "state": {
       "description_width": ""
      }
     }
    },
    "version_major": 2,
    "version_minor": 0
   }
  }
 },
 "nbformat": 4,
 "nbformat_minor": 4
}
