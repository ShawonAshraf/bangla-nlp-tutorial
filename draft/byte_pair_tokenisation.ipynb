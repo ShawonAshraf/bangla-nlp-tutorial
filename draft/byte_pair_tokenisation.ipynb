{
 "cells": [
  {
   "cell_type": "markdown",
   "metadata": {},
   "source": [
    "\n",
    "1. https://youtu.be/bFfWbQoVmIA?si=2MCtE9L9-fbn2k-o\n",
    "2. https://youtu.be/tOMjTCO0htA?si=UXOw2ndTshKUx2n7"
   ]
  },
  {
   "cell_type": "markdown",
   "metadata": {},
   "source": [
    "- Choose two most frequent bigrams\n",
    "- add the most frequent  bigram to the vocabulary as a new token\n",
    "- replace every bigram occurrence with the new token"
   ]
  },
  {
   "cell_type": "code",
   "execution_count": 32,
   "metadata": {},
   "outputs": [],
   "source": [
    "text = \"low low low low low lowest lowest newer newer newer newer newer newer wider wider wider new new \"\n"
   ]
  },
  {
   "cell_type": "code",
   "execution_count": 38,
   "metadata": {},
   "outputs": [
    {
     "data": {
      "text/plain": [
       "Counter({'er': 9,\n",
       "         'r#': 9,\n",
       "         'we': 8,\n",
       "         '#n': 8,\n",
       "         'ne': 8,\n",
       "         'ew': 8,\n",
       "         'lo': 7,\n",
       "         'ow': 7,\n",
       "         'w#': 7,\n",
       "         '#l': 6,\n",
       "         '#w': 3,\n",
       "         'wi': 3,\n",
       "         'id': 3,\n",
       "         'de': 3,\n",
       "         'es': 2,\n",
       "         'st': 2,\n",
       "         't#': 2,\n",
       "         '##': 1})"
      ]
     },
     "execution_count": 38,
     "metadata": {},
     "output_type": "execute_result"
    }
   ],
   "source": [
    "from collections import Counter\n",
    "from tqdm.auto import trange, tqdm\n",
    "\n",
    "class BPETokenizer(object):\n",
    "    def __init__(self, corpus):\n",
    "        self.corpus = corpus\n",
    "        self.end_of_word_token = \"#\"\n",
    "        self.vocabulary = list()\n",
    "        \n",
    "        \n",
    "        self.__prepare_corpus()\n",
    "        self.__init_vocab()\n",
    "        \n",
    "\n",
    "    def __prepare_corpus(self):\n",
    "        text = self.corpus\n",
    "        text = text.split(\" \")\n",
    "        text = [t + self.end_of_word_token for t in text]\n",
    "        text = \"\".join([t for t in text])\n",
    "        self.corpus = text\n",
    "\n",
    "    def __init_vocab(self):\n",
    "        all_characters = list(self.corpus)\n",
    "        self.vocabulary = list(set(all_characters))\n",
    "\n",
    "    def make_bigrams(self):\n",
    "        all_characters = list(self.corpus)\n",
    "        character_bigrams = []\n",
    "\n",
    "        for i in range(len(all_characters)):\n",
    "            # if at the end of the list\n",
    "            # break\n",
    "            if i + 1 == len(all_characters):\n",
    "                break\n",
    "            else:\n",
    "                current = all_characters[i]\n",
    "                next_char = all_characters[i + 1]\n",
    "        \n",
    "                bigram = current + next_char\n",
    "                character_bigrams.append(bigram)\n",
    "\n",
    "        return character_bigrams\n",
    "        \n",
    "\n",
    "    def get_bigram_statistics(self):\n",
    "        all_bigrams = self.make_bigrams()\n",
    "        bigram_counts = Counter(all_bigrams)\n",
    "        return bigram_counts\n",
    "\n",
    "    def fit(self, k):\n",
    "        pass\n",
    "        \n",
    "        \n",
    "        \n",
    "tokenizer = BPETokenizer(corpus=text)\n",
    "tokenizer.get_bigram_statistics()"
   ]
  },
  {
   "cell_type": "code",
   "execution_count": null,
   "metadata": {},
   "outputs": [],
   "source": []
  }
 ],
 "metadata": {
  "kernelspec": {
   "display_name": "Python 3 (ipykernel)",
   "language": "python",
   "name": "python3"
  },
  "language_info": {
   "codemirror_mode": {
    "name": "ipython",
    "version": 3
   },
   "file_extension": ".py",
   "mimetype": "text/x-python",
   "name": "python",
   "nbconvert_exporter": "python",
   "pygments_lexer": "ipython3",
   "version": "3.11.5"
  },
  "widgets": {
   "application/vnd.jupyter.widget-state+json": {
    "state": {},
    "version_major": 2,
    "version_minor": 0
   }
  }
 },
 "nbformat": 4,
 "nbformat_minor": 4
}
