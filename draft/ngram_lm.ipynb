{
 "cells": [
  {
   "cell_type": "code",
   "execution_count": 1,
   "metadata": {},
   "outputs": [],
   "source": [
    "import os\n",
    "import requests\n",
    "import urllib\n",
    "import sys\n",
    "from typing import List, Tuple, Dict, Any\n",
    "\n",
    "FILE_URL = \"https://raw.githubusercontent.com/karpathy/char-rnn/master/data/tinyshakespeare/input.txt\""
   ]
  },
  {
   "cell_type": "code",
   "execution_count": 2,
   "metadata": {},
   "outputs": [
    {
     "name": "stdout",
     "output_type": "stream",
     "text": [
      "Downloading, sit tight!\n",
      ">> Downloading input.txt 100.61951202893327%\n",
      "Successfully downloaded input.txt 1115394 bytes\n"
     ]
    }
   ],
   "source": [
    "def download(url: str) -> None:\n",
    "    file_name = url.split(\"/\")[-1]\n",
    "    download_path = file_name\n",
    "\n",
    "    if os.path.exists(download_path):\n",
    "        print(\"Already downloaded!\")\n",
    "\n",
    "    else:\n",
    "        # ============================================ download\n",
    "        print(\"Downloading, sit tight!\")\n",
    "\n",
    "        def _progress(count, block_size, total_size):\n",
    "            sys.stdout.write(\n",
    "                f\"\\r>> Downloading {file_name} {float(count * block_size) / float(total_size) * 100.0}%\")\n",
    "            sys.stdout.flush()\n",
    "\n",
    "        file_path, _ = urllib.request.urlretrieve(\n",
    "            url, download_path, _progress)\n",
    "        print()\n",
    "        print(\n",
    "            f\"Successfully downloaded {file_name} {os.stat(file_path).st_size} bytes\")\n",
    "        \n",
    "        \n",
    "download(FILE_URL)"
   ]
  },
  {
   "cell_type": "code",
   "execution_count": 3,
   "metadata": {},
   "outputs": [],
   "source": [
    "import re\n",
    "import string\n",
    "\n",
    "\n",
    "def remove_punctuation(text: str) -> str:\n",
    "    return re.sub(f\"[{re.escape(string.punctuation)}]\", \"\", text)\n",
    "\n",
    "def read_all_text(file_path: str) -> str:\n",
    "    assert os.path.exists(file_path)\n",
    "\n",
    "    with open(file_path, \"r\") as f:\n",
    "        data = f.read()\n",
    "\n",
    "    # remove new line escape sequences\n",
    "    data = data.replace(\"\\n\", \" \")\n",
    "    # remove double spaces\n",
    "    data = data.replace(\"  \", \" \")\n",
    "    # trim trailing whitespace\n",
    "    data = data.strip()\n",
    "    # remove punctuation\n",
    "    data = remove_punctuation(data)\n",
    "    # lower case\n",
    "    data = data.lower()\n",
    "\n",
    "    return \"[START] \" + data + \" [END]\"\n",
    "\n",
    "\n",
    "all_text = read_all_text(\"input.txt\")"
   ]
  },
  {
   "cell_type": "code",
   "execution_count": 4,
   "metadata": {},
   "outputs": [],
   "source": [
    "def tokenize(text: str, remove_sw=False) -> list:\n",
    "    s = text.split(\" \")\n",
    "    return s\n",
    "\n",
    "all_tokens = tokenize(all_text)"
   ]
  },
  {
   "cell_type": "code",
   "execution_count": 5,
   "metadata": {},
   "outputs": [
    {
     "data": {
      "text/plain": [
       "[('the', 6283),\n",
       " ('and', 5680),\n",
       " ('to', 4766),\n",
       " ('i', 4653),\n",
       " ('of', 3757),\n",
       " ('you', 3142),\n",
       " ('my', 3118),\n",
       " ('a', 2987),\n",
       " ('that', 2569),\n",
       " ('in', 2362)]"
      ]
     },
     "execution_count": 5,
     "metadata": {},
     "output_type": "execute_result"
    }
   ],
   "source": [
    "from collections import Counter\n",
    "\n",
    "vocabulary = Counter(all_tokens)\n",
    "# sort by frequency, ascending\n",
    "vocabulary = sorted(vocabulary.items(), key=lambda x: x[1], reverse=True)\n",
    "vocabulary[:10]"
   ]
  },
  {
   "cell_type": "code",
   "execution_count": 6,
   "metadata": {},
   "outputs": [
    {
     "name": "stdout",
     "output_type": "stream",
     "text": [
      "Vocabulary size: 12851\n"
     ]
    }
   ],
   "source": [
    "vocabulary_size = len(vocabulary)\n",
    "print(f\"Vocabulary size: {vocabulary_size}\")"
   ]
  },
  {
   "cell_type": "code",
   "execution_count": 7,
   "metadata": {},
   "outputs": [],
   "source": [
    "top_20_words = vocabulary[:20]"
   ]
  },
  {
   "cell_type": "code",
   "execution_count": 8,
   "metadata": {},
   "outputs": [
    {
     "data": {
      "image/png": "[encoded data removed]",
      "text/plain": [
       "<Figure size 1000x500 with 1 Axes>"
      ]
     },
     "metadata": {},
     "output_type": "display_data"
    }
   ],
   "source": [
    "%matplotlib inline\n",
    "import matplotlib.pyplot as plt\n",
    "\n",
    "# plot top 50 words as a bar chart\n",
    "plt.figure(figsize=(10, 5))\n",
    "plt.bar([x[0] for x in top_20_words], [x[1] for x in top_20_words]) \n",
    "plt.title(\"Top 20 words by frequency\")\n",
    "plt.show()"
   ]
  },
  {
   "cell_type": "code",
   "execution_count": 9,
   "metadata": {},
   "outputs": [
    {
     "data": {
      "text/plain": [
       "[('[START]', 'first'),\n",
       " ('first', 'citizen'),\n",
       " ('citizen', 'before'),\n",
       " ('before', 'we'),\n",
       " ('we', 'proceed'),\n",
       " ('proceed', 'any'),\n",
       " ('any', 'further'),\n",
       " ('further', 'hear'),\n",
       " ('hear', 'me'),\n",
       " ('me', 'speak')]"
      ]
     },
     "execution_count": 9,
     "metadata": {},
     "output_type": "execute_result"
    }
   ],
   "source": [
    "# create bigrams from all_tokens\n",
    "bigrams = [(all_tokens[i], all_tokens[i+1]) for i in range(len(all_tokens)-1)]\n",
    "bigrams[:10]"
   ]
  },
  {
   "cell_type": "code",
   "execution_count": 10,
   "metadata": {},
   "outputs": [
    {
     "data": {
      "text/plain": [
       "[(('to', 'the'), 390),\n",
       " (('i', 'am'), 376),\n",
       " (('my', 'lord'), 360),\n",
       " (('i', 'have'), 358),\n",
       " (('in', 'the'), 335),\n",
       " (('of', 'the'), 306),\n",
       " (('i', 'will'), 281),\n",
       " (('it', 'is'), 252),\n",
       " (('king', 'richard'), 250),\n",
       " (('to', 'be'), 243)]"
      ]
     },
     "execution_count": 10,
     "metadata": {},
     "output_type": "execute_result"
    }
   ],
   "source": [
    "bigram_counts = Counter(bigrams)\n",
    "# sort by frequency, ascending\n",
    "bigram_counts = sorted(bigram_counts.items(), key=lambda x: x[1], reverse=True)\n",
    "bigram_counts[:10]"
   ]
  },
  {
   "cell_type": "code",
   "execution_count": 11,
   "metadata": {},
   "outputs": [
    {
     "data": {
      "image/png": "[encoded data removed]",
      "text/plain": [
       "<Figure size 2500x500 with 1 Axes>"
      ]
     },
     "metadata": {},
     "output_type": "display_data"
    }
   ],
   "source": [
    "top_20_bigrams = bigram_counts[:20]\n",
    "# plot top 20 bigrams as a bar chart\n",
    "plt.figure(figsize=(25, 5))\n",
    "plt.bar([\" \".join(x[0])  for x in top_20_bigrams], [x[1] for x in top_20_bigrams])\n",
    "plt.title(\"Top 20 bigrams by frequency\")\n",
    "plt.show()"
   ]
  },
  {
   "cell_type": "code",
   "execution_count": 12,
   "metadata": {},
   "outputs": [],
   "source": [
    "def get_unigram_probabilities(tokens):\n",
    "    unigram_counts = Counter(tokens)\n",
    "    total_count = len(tokens)\n",
    "    unigram_probabilities = {k: v/total_count for k, v in unigram_counts.items()}\n",
    "    return unigram_probabilities\n",
    "\n",
    "unigram_probabilities = get_unigram_probabilities(all_tokens)"
   ]
  },
  {
   "cell_type": "code",
   "execution_count": 13,
   "metadata": {},
   "outputs": [],
   "source": [
    "def get_bigram_probabilities(bigrams):\n",
    "    bigram_counts = Counter(bigrams)\n",
    "    total_count = len(bigrams)\n",
    "    bigram_probabilities = {k: v/total_count for k, v in bigram_counts.items()}\n",
    "    \n",
    "    return bigram_probabilities\n",
    "\n",
    "bigram_probabilities = get_bigram_probabilities(bigrams)"
   ]
  },
  {
   "cell_type": "code",
   "execution_count": 14,
   "metadata": {},
   "outputs": [],
   "source": [
    "word_to_idx = {w: i for i, (w, _) in enumerate(vocabulary)}\n",
    "idx_to_word = {i: w for i, (w, _) in enumerate(vocabulary)}"
   ]
  },
  {
   "cell_type": "code",
   "execution_count": 15,
   "metadata": {},
   "outputs": [
    {
     "data": {
      "text/plain": [
       "<torch._C.Generator at 0x7fab4624ab90>"
      ]
     },
     "execution_count": 15,
     "metadata": {},
     "output_type": "execute_result"
    }
   ],
   "source": [
    "import torch\n",
    "torch.manual_seed(42)"
   ]
  },
  {
   "cell_type": "code",
   "execution_count": 16,
   "metadata": {},
   "outputs": [
    {
     "data": {
      "text/plain": [
       "tensor([  33,  119, 1839, 2261,   12, 5657,   48,   67,  594,  261])"
      ]
     },
     "execution_count": 16,
     "metadata": {},
     "output_type": "execute_result"
    }
   ],
   "source": [
    "idxs = torch.multinomial(torch.tensor(list(unigram_probabilities.values())), 10)\n",
    "idxs"
   ]
  },
  {
   "cell_type": "code",
   "execution_count": 17,
   "metadata": {},
   "outputs": [
    {
     "data": {
      "text/plain": [
       "'king lady boar hire for garlands from am saint power'"
      ]
     },
     "execution_count": 17,
     "metadata": {},
     "output_type": "execute_result"
    }
   ],
   "source": [
    "\" \".join([idx_to_word[i.item()] for i in idxs])"
   ]
  },
  {
   "cell_type": "code",
   "execution_count": 18,
   "metadata": {},
   "outputs": [],
   "source": [
    "def generate(probabilities, idx_to_word, num_words=10):\n",
    "    idxs = torch.multinomial(torch.tensor(list(probabilities.values())), num_words)\n",
    "    return \" \".join([idx_to_word[i.item()] for i in idxs])"
   ]
  },
  {
   "cell_type": "code",
   "execution_count": 19,
   "metadata": {},
   "outputs": [
    {
     "data": {
      "text/plain": [
       "'decreed sit quench sir consul till crotchets stones marriage before world bed house am consider poor way king squarest like spell edward paris penitence make treasons some lady be here all weaknessthine as should officers show shame oaken speak sad childish pursuivant ampler sirtwas marshal dead vienna our with now'"
      ]
     },
     "execution_count": 19,
     "metadata": {},
     "output_type": "execute_result"
    }
   ],
   "source": [
    "generate(unigram_probabilities, idx_to_word, num_words=50)"
   ]
  },
  {
   "cell_type": "code",
   "execution_count": 20,
   "metadata": {},
   "outputs": [
    {
     "data": {
      "text/plain": [
       "tensor(1.0000)"
      ]
     },
     "execution_count": 20,
     "metadata": {},
     "output_type": "execute_result"
    }
   ],
   "source": [
    "torch.sum(torch.tensor(list(unigram_probabilities.values()))) # should be 1.0"
   ]
  },
  {
   "cell_type": "code",
   "execution_count": 21,
   "metadata": {},
   "outputs": [],
   "source": [
    "bigram_idx_to_word = {i: \" \".join(w) for i, (w, _) in enumerate(bigram_counts)}"
   ]
  },
  {
   "cell_type": "code",
   "execution_count": 22,
   "metadata": {},
   "outputs": [
    {
     "data": {
      "text/plain": [
       "'sons and matter autolycus authority which evil which lanced their aside duke thee in sit there so unlike this loathsome well nor i seemd go to leontes thou warwick warwick and cost order this gremio god bark and face o me even heart is that sound her queen goes to the red souls consent hold it well opinion truth hath my coining to grant their pride piteous woes dispatch twas to tell never my duke of if this be for heart pray wives as are high which may surfeit die would fly now and do remember yourself into through tis'"
      ]
     },
     "execution_count": 22,
     "metadata": {},
     "output_type": "execute_result"
    }
   ],
   "source": [
    "generate(bigram_probabilities, bigram_idx_to_word, num_words=50)"
   ]
  },
  {
   "cell_type": "code",
   "execution_count": 23,
   "metadata": {},
   "outputs": [
    {
     "data": {
      "text/plain": [
       "'house sir his looks left solely stand most me by secretnurse come margaret must down queen slaughterhouse o were an shore gloucester a tabour by alliance speech he that of exceeding those baseness courtcontempt charity would the foaming or in one nail menenius ill comes home is most may have wilt anger not prospero kings should that act loins no coming is do assure thou thou boots that lucentio spit poor sire the grandchild comest and pry in nay as made doubt glass which that shores have news circumstances well first citizen you mopsa padua grumio those whose with good'"
      ]
     },
     "execution_count": 23,
     "metadata": {},
     "output_type": "execute_result"
    }
   ],
   "source": [
    "generate(bigram_probabilities, bigram_idx_to_word, num_words=50)"
   ]
  },
  {
   "cell_type": "code",
   "execution_count": null,
   "metadata": {},
   "outputs": [],
   "source": []
  }
 ],
 "metadata": {
  "kernelspec": {
   "display_name": "bnnlp",
   "language": "python",
   "name": "python3"
  },
  "language_info": {
   "codemirror_mode": {
    "name": "ipython",
    "version": 3
   },
   "file_extension": ".py",
   "mimetype": "text/x-python",
   "name": "python",
   "nbconvert_exporter": "python",
   "pygments_lexer": "ipython3",
   "version": "3.11.7"
  }
 },
 "nbformat": 4,
 "nbformat_minor": 2
}
