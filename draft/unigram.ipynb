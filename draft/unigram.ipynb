{
 "cells": [
  {
   "cell_type": "code",
   "execution_count": 2,
   "metadata": {},
   "outputs": [],
   "source": [
    "import numpy as onp\n",
    "import jax.numpy as jnp\n",
    "from jax import jit, vmap, grad, nn, random\n"
   ]
  },
  {
   "cell_type": "code",
   "execution_count": 3,
   "metadata": {},
   "outputs": [],
   "source": [
    "from typing import List, Tuple, Dict, Any\n"
   ]
  },
  {
   "cell_type": "code",
   "execution_count": 4,
   "metadata": {},
   "outputs": [
    {
     "name": "stdout",
     "output_type": "stream",
     "text": [
      "Already downloaded!\n"
     ]
    }
   ],
   "source": [
    "import os \n",
    "import urllib\n",
    "import sys\n",
    "\n",
    "\n",
    "# using te corpus from Carpathy\n",
    "file_url = \"https://raw.githubusercontent.com/karpathy/char-rnn/master/data/tinyshakespeare/input.txt\"\n",
    "\n",
    "\n",
    "def download(url: str) -> None:\n",
    "    file_name = url.split(\"/\")[-1]\n",
    "    download_path = file_name\n",
    "\n",
    "    if os.path.exists(download_path):\n",
    "        print(\"Already downloaded!\")\n",
    "\n",
    "    else:\n",
    "        # ============================================ download\n",
    "        print(\"Downloading, sit tight!\")\n",
    "\n",
    "        def _progress(count, block_size, total_size):\n",
    "            sys.stdout.write(\n",
    "                f\"\\r>> Downloading {file_name} {float(count * block_size) / float(total_size) * 100.0}%\")\n",
    "            sys.stdout.flush()\n",
    "\n",
    "        file_path, _ = urllib.request.urlretrieve(\n",
    "            url, download_path, _progress)\n",
    "        print()\n",
    "        print(\n",
    "            f\"Successfully downloaded {file_name} {os.stat(file_path).st_size} bytes\")\n",
    "        \n",
    "\n",
    "download(url=file_url)\n"
   ]
  },
  {
   "cell_type": "code",
   "execution_count": 5,
   "metadata": {},
   "outputs": [],
   "source": [
    "def read_all_text(file_path: str) -> List[str]:\n",
    "    assert os.path.exists(file_path)\n",
    "\n",
    "    with open(file_path, \"r\") as f:\n",
    "        data = f.readlines()\n",
    "\n",
    "    # remove new line escape sequences\n",
    "    data = [d for d in data if d != \"\\n\"]\n",
    "    data = [d.replace(\"\\n\", \"\") for d in data]\n",
    "\n",
    "    return data\n",
    "\n",
    "\n",
    "all_text = read_all_text(\"input.txt\")\n"
   ]
  },
  {
   "cell_type": "code",
   "execution_count": 6,
   "metadata": {},
   "outputs": [
    {
     "data": {
      "text/plain": [
       "['First Citizen:',\n",
       " 'Before we proceed any further, hear me speak.',\n",
       " 'All:',\n",
       " 'Speak, speak.',\n",
       " 'First Citizen:']"
      ]
     },
     "execution_count": 6,
     "metadata": {},
     "output_type": "execute_result"
    }
   ],
   "source": [
    "all_text[:5]\n"
   ]
  },
  {
   "cell_type": "code",
   "execution_count": 7,
   "metadata": {},
   "outputs": [],
   "source": [
    "def tokenize_text(text: str) -> list:\n",
    "    s = text.split(\" \")\n",
    "    return s\n",
    "\n",
    "\n",
    "def batch_tokenize_text(texts: List[str]) -> List[List[str]]:\n",
    "    return [tokenize_text(text) for text in texts]\n"
   ]
  },
  {
   "cell_type": "markdown",
   "metadata": {},
   "source": [
    "The \":\" punctuation mark is a problem. The corpus isn't exactly cleaned for a typical ngram purpose."
   ]
  },
  {
   "cell_type": "code",
   "execution_count": 8,
   "metadata": {},
   "outputs": [
    {
     "data": {
      "text/plain": [
       "['All:']"
      ]
     },
     "execution_count": 8,
     "metadata": {},
     "output_type": "execute_result"
    }
   ],
   "source": [
    "tokenize_text(all_text[2])\n"
   ]
  },
  {
   "cell_type": "code",
   "execution_count": 9,
   "metadata": {},
   "outputs": [
    {
     "data": {
      "text/plain": [
       "[['First', 'Citizen:']]"
      ]
     },
     "execution_count": 9,
     "metadata": {},
     "output_type": "execute_result"
    }
   ],
   "source": [
    "tokenized_sents = batch_tokenize_text(all_text)\n",
    "tokenized_sents[:1]\n"
   ]
  },
  {
   "cell_type": "code",
   "execution_count": 10,
   "metadata": {},
   "outputs": [
    {
     "data": {
      "application/vnd.jupyter.widget-view+json": {
       "model_id": "a9c612e7036e488c8ef10c55ff522eed",
       "version_major": 2,
       "version_minor": 0
      },
      "text/plain": [
       "  0%|          | 0/32777 [00:00<?, ?it/s]"
      ]
     },
     "metadata": {},
     "output_type": "display_data"
    }
   ],
   "source": [
    "from tqdm.auto import tqdm\n",
    "\n",
    "\n",
    "def create_vocab(tokenized_sentences=tokenized_sents):\n",
    "    vocabulary = dict()  # word to count mapping\n",
    "\n",
    "    for _, sentence in tqdm(enumerate(tokenized_sentences), total=len(tokenized_sentences)):\n",
    "        for token in sentence:\n",
    "            if token in vocabulary.keys():\n",
    "                vocabulary[token] += 1.0\n",
    "            else:\n",
    "                vocabulary[token] = 0.0\n",
    "\n",
    "    vocabulary[\"[OOV]\"] = 0.0\n",
    "    return vocabulary\n",
    "\n",
    "\n",
    "vocabulary = create_vocab()\n"
   ]
  },
  {
   "cell_type": "code",
   "execution_count": 11,
   "metadata": {},
   "outputs": [
    {
     "data": {
      "text/plain": [
       "25672"
      ]
     },
     "execution_count": 11,
     "metadata": {},
     "output_type": "execute_result"
    }
   ],
   "source": [
    "vocab_size = len(list(vocabulary.keys()))\n",
    "vocab_size\n"
   ]
  },
  {
   "cell_type": "code",
   "execution_count": 12,
   "metadata": {},
   "outputs": [
    {
     "name": "stdout",
     "output_type": "stream",
     "text": [
      "176998.0\n"
     ]
    }
   ],
   "source": [
    "from functools import reduce\n",
    "\n",
    "\n",
    "def get_total_word_count(vocabulary):\n",
    "    total = reduce(lambda start, values: start +\n",
    "                   jnp.sum(values), vocabulary.values(), 0)\n",
    "    return total\n",
    "\n",
    "\n",
    "total_tokens = get_total_word_count(vocabulary)\n",
    "print(total_tokens)\n"
   ]
  },
  {
   "cell_type": "code",
   "execution_count": 13,
   "metadata": {},
   "outputs": [],
   "source": [
    "def unigram_probabilities(vocabulary, total_tokens, vocab_size, smoothing=\"laplace\"):\n",
    "    probabilities = dict()  # unigram -> probability\n",
    "    for k, v in vocabulary.items():\n",
    "        if smoothing:\n",
    "            probabilities[k] = (v + 1) / (float(total_tokens) + vocab_size)\n",
    "\n",
    "    return probabilities\n",
    "\n",
    "\n",
    "unigram_probs = unigram_probabilities(vocabulary, total_tokens, vocab_size)\n"
   ]
  },
  {
   "cell_type": "code",
   "execution_count": 14,
   "metadata": {},
   "outputs": [],
   "source": [
    "def get_sent_probs(sentence, unigram_probs=unigram_probs) -> jnp.ndarray:\n",
    "    if not isinstance(sentence, list):\n",
    "        # tokenize\n",
    "        tokens = tokenize_text(sentence)\n",
    "    else:\n",
    "        tokens = sentence\n",
    "\n",
    "    sentence_probs = []\n",
    "    for tok in tokens:\n",
    "        if tok in unigram_probs.keys():\n",
    "            sentence_probs.append(unigram_probs[tok])\n",
    "        else:\n",
    "            sentence_probs.append(unigram_probs[\"[OOV]\"])\n",
    "\n",
    "    return jnp.array(sentence_probs)\n"
   ]
  },
  {
   "cell_type": "code",
   "execution_count": 15,
   "metadata": {},
   "outputs": [],
   "source": [
    "def perplexity(prob):\n",
    "    product_prob = jnp.prod(prob)\n",
    "    return jnp.power(product_prob, (-1 / prob.shape[0]))\n"
   ]
  },
  {
   "cell_type": "code",
   "execution_count": 16,
   "metadata": {},
   "outputs": [
    {
     "data": {
      "application/vnd.jupyter.widget-view+json": {
       "model_id": "cd9d8a89f4524f1e821df3015edd5ebe",
       "version_major": 2,
       "version_minor": 0
      },
      "text/plain": [
       "  0%|          | 0/3 [00:00<?, ?it/s]"
      ]
     },
     "metadata": {},
     "output_type": "display_data"
    },
    {
     "name": "stdout",
     "output_type": "stream",
     "text": [
      "Input : First Citizen:\n",
      "Perplexity : 1335.49560546875\n",
      "Probabilities : [0.00115952 0.00048354]\n",
      "\n",
      "Input : Manners maketh a man.\n",
      "Perplexity : 12557.001953125\n",
      "Probabilities : [4.9341293e-06 4.9341293e-06 1.2878078e-02 1.2828737e-04]\n",
      "\n",
      "Input : Where's the ghost, Othello?\n",
      "Perplexity : 9271.228515625\n",
      "Probabilities : [6.9077811e-05 2.6826862e-02 1.4802388e-05 4.9341293e-06]\n",
      "\n"
     ]
    }
   ],
   "source": [
    "test_inputs = [\n",
    "    \"First Citizen:\",\n",
    "    \"Manners maketh a man.\",\n",
    "    \"Where's the ghost, Othello?\"\n",
    "]\n",
    "\n",
    "\n",
    "def evaluate(test_inputs=test_inputs) -> None:\n",
    "    for _, ti in tqdm(enumerate(test_inputs), total=len(test_inputs)):\n",
    "        probs = get_sent_probs(ti)\n",
    "        p = perplexity(probs)\n",
    "\n",
    "        print(f\"Input : {ti}\\nPerplexity : {p}\\nProbabilities : {probs}\\n\")\n",
    "\n",
    "\n",
    "evaluate(test_inputs)\n"
   ]
  },
  {
   "cell_type": "code",
   "execution_count": 67,
   "metadata": {},
   "outputs": [
    {
     "name": "stdout",
     "output_type": "stream",
     "text": [
      "parts mutinous see: limit. little, returns. Caliban! constrains shreds slackness. buds malign thaw weather, counsel;\n",
      "sacrament, shrill-voiced widower They, changed, treasons blindly pains teeth, dissentious health. Buckingham. spite. births: estates,--\n",
      "virtue: Angelo? Scrivener: unaccustom'd point lamentation; strew grave, wherefore? zeal, exchange! on! defied disturbing fringed\n",
      "their thee; high dugs spell, GLOUCESTER: fairest-boding virtue! people. Account lord's patience! king holiday, fill.\n",
      "vouch'd, ean: Contend summer's friends,' whet heavy? here,--this, ordnance forgiven solace: urging excellence; bad! Became\n"
     ]
    }
   ],
   "source": [
    "# jax prng key for random\n",
    "n_gens = 5\n",
    "seed = int(onp.random.randint(1, 2000))\n",
    "master_key = random.PRNGKey(seed)\n",
    "master_key, *subkeys = random.split(master_key, n_gens + 1)\n",
    "\n",
    "\n",
    "@jit\n",
    "def sample_words(key, probabilities):\n",
    "    logits = random.categorical(key, probabilities, axis=-1, shape=[15, ])\n",
    "    return logits\n",
    "\n",
    "\n",
    "def generate(key, n_tokens, unigram_probs=unigram_probs):    \n",
    "    words = list()\n",
    "    probs = list()\n",
    "    indexes = list()\n",
    "\n",
    "    for k, v in unigram_probs.items():\n",
    "        words.append(k)\n",
    "        probs.append(v)\n",
    "\n",
    "    assert len(words) == len(probs)\n",
    "    \n",
    "    probs = jnp.array(probs)\n",
    "    sampled = sample_words(key, probs)\n",
    "    indexes = sampled.tolist()\n",
    "    \n",
    "        \n",
    "    return \" \".join(words[int(i)] for i in indexes)\n",
    "\n",
    "\n",
    "# ======================\n",
    "for idx in range(n_gens):\n",
    "    out = generate(subkeys[idx], 15)\n",
    "    print(out)\n"
   ]
  },
  {
   "cell_type": "code",
   "execution_count": null,
   "metadata": {},
   "outputs": [],
   "source": []
  }
 ],
 "metadata": {
  "kernelspec": {
   "display_name": "bnnlp",
   "language": "python",
   "name": "python3"
  },
  "language_info": {
   "codemirror_mode": {
    "name": "ipython",
    "version": 3
   },
   "file_extension": ".py",
   "mimetype": "text/x-python",
   "name": "python",
   "nbconvert_exporter": "python",
   "pygments_lexer": "ipython3",
   "version": "3.9.18"
  }
 },
 "nbformat": 4,
 "nbformat_minor": 2
}
