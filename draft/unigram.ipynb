{
 "cells": [
  {
   "cell_type": "code",
   "execution_count": 1,
   "metadata": {},
   "outputs": [],
   "source": [
    "import numpy as onp\n",
    "import jax.numpy as jnp\n",
    "from jax import jit, vmap, grad, nn, random\n",
    "import os\n",
    "import urllib\n",
    "import sys\n",
    "from typing import List, Tuple, Dict, Any\n"
   ]
  },
  {
   "cell_type": "code",
   "execution_count": 2,
   "metadata": {},
   "outputs": [
    {
     "name": "stdout",
     "output_type": "stream",
     "text": [
      "Already downloaded!\n"
     ]
    }
   ],
   "source": [
    "# using te corpus from Carpathy\n",
    "file_url = \"https://raw.githubusercontent.com/karpathy/char-rnn/master/data/tinyshakespeare/input.txt\"\n",
    "\n",
    "\n",
    "def download(url: str) -> None:\n",
    "    file_name = url.split(\"/\")[-1]\n",
    "    download_path = file_name\n",
    "\n",
    "    if os.path.exists(download_path):\n",
    "        print(\"Already downloaded!\")\n",
    "\n",
    "    else:\n",
    "        # ============================================ download\n",
    "        print(\"Downloading, sit tight!\")\n",
    "\n",
    "        def _progress(count, block_size, total_size):\n",
    "            sys.stdout.write(\n",
    "                f\"\\r>> Downloading {file_name} {float(count * block_size) / float(total_size) * 100.0}%\")\n",
    "            sys.stdout.flush()\n",
    "\n",
    "        file_path, _ = urllib.request.urlretrieve(\n",
    "            url, download_path, _progress)\n",
    "        print()\n",
    "        print(\n",
    "            f\"Successfully downloaded {file_name} {os.stat(file_path).st_size} bytes\")\n",
    "        \n",
    "\n",
    "download(url=file_url)\n"
   ]
  },
  {
   "cell_type": "code",
   "execution_count": 3,
   "metadata": {},
   "outputs": [],
   "source": [
    "def read_all_text(file_path: str) -> List[str]:\n",
    "    assert os.path.exists(file_path)\n",
    "\n",
    "    with open(file_path, \"r\") as f:\n",
    "        data = f.readlines()\n",
    "\n",
    "    # remove new line escape sequences\n",
    "    data = [d for d in data if d != \"\\n\"]\n",
    "    data = [d.replace(\"\\n\", \"\") for d in data]\n",
    "\n",
    "    return data\n",
    "\n",
    "\n",
    "all_text = read_all_text(\"input.txt\")\n"
   ]
  },
  {
   "cell_type": "code",
   "execution_count": 4,
   "metadata": {},
   "outputs": [
    {
     "data": {
      "text/plain": [
       "['First Citizen:',\n",
       " 'Before we proceed any further, hear me speak.',\n",
       " 'All:',\n",
       " 'Speak, speak.',\n",
       " 'First Citizen:']"
      ]
     },
     "execution_count": 4,
     "metadata": {},
     "output_type": "execute_result"
    }
   ],
   "source": [
    "all_text[:5]\n"
   ]
  },
  {
   "cell_type": "code",
   "execution_count": 5,
   "metadata": {},
   "outputs": [],
   "source": [
    "def tokenize_text(text: str) -> list:\n",
    "    s = text.split(\" \")\n",
    "    return s\n",
    "\n",
    "\n",
    "def batch_tokenize_text(texts: List[str]) -> List[List[str]]:\n",
    "    return [tokenize_text(text) for text in texts]\n"
   ]
  },
  {
   "cell_type": "markdown",
   "metadata": {},
   "source": [
    "The \":\" punctuation mark is a problem. The corpus isn't exactly cleaned for a typical ngram purpose."
   ]
  },
  {
   "cell_type": "code",
   "execution_count": 6,
   "metadata": {},
   "outputs": [
    {
     "data": {
      "text/plain": [
       "['All:']"
      ]
     },
     "execution_count": 6,
     "metadata": {},
     "output_type": "execute_result"
    }
   ],
   "source": [
    "tokenize_text(all_text[2])\n"
   ]
  },
  {
   "cell_type": "code",
   "execution_count": 7,
   "metadata": {},
   "outputs": [
    {
     "data": {
      "text/plain": [
       "[['First', 'Citizen:']]"
      ]
     },
     "execution_count": 7,
     "metadata": {},
     "output_type": "execute_result"
    }
   ],
   "source": [
    "tokenized_sents = batch_tokenize_text(all_text)\n",
    "tokenized_sents[:1]\n"
   ]
  },
  {
   "cell_type": "code",
   "execution_count": 8,
   "metadata": {},
   "outputs": [
    {
     "data": {
      "application/vnd.jupyter.widget-view+json": {
       "model_id": "03999a0519824b8b819ac53ddfd75397",
       "version_major": 2,
       "version_minor": 0
      },
      "text/plain": [
       "  0%|          | 0/32777 [00:00<?, ?it/s]"
      ]
     },
     "metadata": {},
     "output_type": "display_data"
    }
   ],
   "source": [
    "from tqdm.auto import tqdm\n",
    "\n",
    "\n",
    "def create_vocab(tokenized_sentences=tokenized_sents) -> dict:\n",
    "    vocabulary = dict()  # word to count mapping\n",
    "\n",
    "    for _, sentence in tqdm(enumerate(tokenized_sentences), total=len(tokenized_sentences)):\n",
    "        for token in sentence:\n",
    "            if token in vocabulary.keys():\n",
    "                vocabulary[token] += 1.0\n",
    "            else:\n",
    "                vocabulary[token] = 0.0\n",
    "\n",
    "    vocabulary[\"[OOV]\"] = 0.0\n",
    "    return vocabulary\n",
    "\n",
    "\n",
    "vocabulary = create_vocab()\n"
   ]
  },
  {
   "cell_type": "code",
   "execution_count": 9,
   "metadata": {},
   "outputs": [
    {
     "data": {
      "text/plain": [
       "25672"
      ]
     },
     "execution_count": 9,
     "metadata": {},
     "output_type": "execute_result"
    }
   ],
   "source": [
    "vocab_size = len(list(vocabulary.keys()))\n",
    "vocab_size\n"
   ]
  },
  {
   "cell_type": "code",
   "execution_count": 10,
   "metadata": {},
   "outputs": [
    {
     "name": "stdout",
     "output_type": "stream",
     "text": [
      "176998.0\n"
     ]
    }
   ],
   "source": [
    "from functools import reduce\n",
    "\n",
    "\n",
    "def get_total_word_count(vocabulary) -> Any:\n",
    "    total = reduce(lambda start, values: start +\n",
    "                   jnp.sum(values), vocabulary.values(), 0)\n",
    "    return total\n",
    "\n",
    "\n",
    "total_tokens = get_total_word_count(vocabulary)\n",
    "print(total_tokens)\n"
   ]
  },
  {
   "cell_type": "code",
   "execution_count": 11,
   "metadata": {},
   "outputs": [],
   "source": [
    "def unigram_probabilities(vocabulary, total_tokens, vocab_size, smoothing=\"laplace\") -> dict:\n",
    "    probabilities = dict()  # unigram -> probability\n",
    "    for k, v in vocabulary.items():\n",
    "        if smoothing:\n",
    "            probabilities[k] = (v + 1) / (float(total_tokens) + vocab_size)\n",
    "\n",
    "    return probabilities\n",
    "\n",
    "\n",
    "unigram_probs = unigram_probabilities(vocabulary, total_tokens, vocab_size)\n"
   ]
  },
  {
   "cell_type": "code",
   "execution_count": 12,
   "metadata": {},
   "outputs": [],
   "source": [
    "def get_sent_probs(sentence, unigram_probs=unigram_probs) -> jnp.ndarray:\n",
    "    if not isinstance(sentence, list):\n",
    "        # tokenize\n",
    "        tokens = tokenize_text(sentence)\n",
    "    else:\n",
    "        tokens = sentence\n",
    "\n",
    "    sentence_probs = []\n",
    "    for tok in tokens:\n",
    "        if tok in unigram_probs.keys():\n",
    "            sentence_probs.append(unigram_probs[tok])\n",
    "        else:\n",
    "            sentence_probs.append(unigram_probs[\"[OOV]\"])\n",
    "\n",
    "    return jnp.array(sentence_probs)\n"
   ]
  },
  {
   "cell_type": "code",
   "execution_count": 17,
   "metadata": {},
   "outputs": [],
   "source": [
    "@jit\n",
    "def perplexity(prob) -> jnp.ndarray:\n",
    "    product_prob = jnp.prod(prob)\n",
    "    return jnp.power(product_prob, (-1 / prob.shape[0]))\n"
   ]
  },
  {
   "cell_type": "code",
   "execution_count": 18,
   "metadata": {},
   "outputs": [
    {
     "data": {
      "application/vnd.jupyter.widget-view+json": {
       "model_id": "eb1464ef0c2f43769b43d279e21cf3b9",
       "version_major": 2,
       "version_minor": 0
      },
      "text/plain": [
       "  0%|          | 0/3 [00:00<?, ?it/s]"
      ]
     },
     "metadata": {},
     "output_type": "display_data"
    },
    {
     "name": "stdout",
     "output_type": "stream",
     "text": [
      "Input : First Citizen:\n",
      "Perplexity : 1335.49560546875\n",
      "Probabilities : [0.00115952 0.00048354]\n",
      "\n",
      "Input : Manners maketh a man.\n",
      "Perplexity : 12557.001953125\n",
      "Probabilities : [4.9341293e-06 4.9341293e-06 1.2878078e-02 1.2828737e-04]\n",
      "\n",
      "Input : Where's the ghost, Othello?\n",
      "Perplexity : 9271.228515625\n",
      "Probabilities : [6.9077811e-05 2.6826862e-02 1.4802388e-05 4.9341293e-06]\n",
      "\n"
     ]
    }
   ],
   "source": [
    "test_inputs = [\n",
    "    \"First Citizen:\",\n",
    "    \"Manners maketh a man.\",\n",
    "    \"Where's the ghost, Othello?\"\n",
    "]\n",
    "\n",
    "\n",
    "def evaluate(test_inputs=test_inputs) -> None:\n",
    "    for _, ti in tqdm(enumerate(test_inputs), total=len(test_inputs)):\n",
    "        probs = get_sent_probs(ti)\n",
    "        p = perplexity(probs)\n",
    "\n",
    "        print(f\"Input : {ti}\\nPerplexity : {p}\\nProbabilities : {probs}\\n\")\n",
    "\n",
    "\n",
    "evaluate(test_inputs)\n"
   ]
  },
  {
   "cell_type": "code",
   "execution_count": 15,
   "metadata": {},
   "outputs": [],
   "source": [
    "\"\"\"\n",
    "https://math.stackexchange.com/questions/966466/what-is-the-difference-between-multinomial-and-categorical-distribution\n",
    "\n",
    "\"\"\"\n",
    "@jit\n",
    "def categorical_trial(key, probabilities):\n",
    "    sampled_int = random.categorical(key, probabilities, axis=-1, shape=[1, ])\n",
    "    return sampled_int\n",
    "\n",
    "\n",
    "def generate(n_tokens, unigram_probs=unigram_probs):\n",
    "    # randomise seed on each call\n",
    "    seed = int(onp.random.randint(1, 2000))\n",
    "    # jax prng key for random\n",
    "    master_key = random.PRNGKey(seed)\n",
    "    # one trial, key for each token in n_tokens\n",
    "    # from each trial get the argmax\n",
    "    master_key, *subkeys = random.split(master_key, n_tokens + 1)\n",
    "    \n",
    "    # collect words and probabilities    \n",
    "    words = list()\n",
    "    probs = list()\n",
    "\n",
    "\n",
    "    for k, v in unigram_probs.items():\n",
    "        words.append(k)\n",
    "        probs.append(v)\n",
    "\n",
    "    assert len(words) == len(probs)\n",
    "    \n",
    "    # convert to array\n",
    "    probs = jnp.array(probs)\n",
    "    \n",
    "    # vmap is faster than a loop\n",
    "    # convert subkeys to array first\n",
    "    subkeys = jnp.array(subkeys)\n",
    "    \n",
    "    sampled = vmap(categorical_trial, in_axes=[0, None])(subkeys, probs)\n",
    "    sampled = jnp.reshape(sampled, -1)\n",
    "    \n",
    "    # word indexes\n",
    "    indexes = sampled.tolist()\n",
    "    # join as a string and return\n",
    "    return \" \".join(words[int(i)] for i in indexes)\n",
    "\n",
    "\n"
   ]
  },
  {
   "cell_type": "code",
   "execution_count": 26,
   "metadata": {},
   "outputs": [
    {
     "name": "stdout",
     "output_type": "stream",
     "text": [
      "hiss revel PARIS: 'I' Misthink redeliver conspiracy, doxy\n",
      "\n",
      "true: LEWIS earth cherry Hail, fathers' once. grieved:\n",
      "\n",
      "offering! Commend quarrels, is--to fixture instinct drowsiness dears:\n",
      "\n",
      "spokest city's betroth'd self-affrighted honourable: down, quivering harm.\n",
      "\n",
      "lopp'd all; soul, blushing trunk, understand been; old,\n",
      "\n",
      "were limitation; Keeper: waking, marry: discover. packed: Sheriff:\n",
      "\n",
      "lance cuckold. kinsman's. fools' island; Mis-shapen exposition. occasion,\n",
      "\n",
      "foulest poisoner nothings, troth-plight desert! thirst. lets insinuating\n",
      "\n",
      "ornament: strife? thrive. schoolmaster cannot, joys, rested unvulnerable,\n",
      "\n",
      "martial undertaking. winding-sheet; flowers, Oppose Living Advertising nicely-gawded\n",
      "\n"
     ]
    }
   ],
   "source": [
    "for _ in range(10):\n",
    "    print(generate(8))\n",
    "    print()\n"
   ]
  },
  {
   "cell_type": "code",
   "execution_count": null,
   "metadata": {},
   "outputs": [],
   "source": []
  }
 ],
 "metadata": {
  "kernelspec": {
   "display_name": "bnnlp",
   "language": "python",
   "name": "python3"
  },
  "language_info": {
   "codemirror_mode": {
    "name": "ipython",
    "version": 3
   },
   "file_extension": ".py",
   "mimetype": "text/x-python",
   "name": "python",
   "nbconvert_exporter": "python",
   "pygments_lexer": "ipython3",
   "version": "3.9.18"
  }
 },
 "nbformat": 4,
 "nbformat_minor": 2
}
